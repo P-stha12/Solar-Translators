{
 "cells": [
  {
   "cell_type": "code",
   "execution_count": 1,
   "id": "fa166144",
   "metadata": {},
   "outputs": [],
   "source": [
    "import pandas as pd\n",
    "import os"
   ]
  },
  {
   "cell_type": "code",
   "execution_count": 2,
   "id": "adc438d8",
   "metadata": {},
   "outputs": [],
   "source": [
    "os.chdir(r'C:\\Users\\shres\\OneDrive\\Desktop\\windspeed')"
   ]
  },
  {
   "cell_type": "code",
   "execution_count": 3,
   "id": "d88fcf65",
   "metadata": {},
   "outputs": [],
   "source": [
    "from spacepy import pycdf"
   ]
  },
  {
   "cell_type": "code",
   "execution_count": 4,
   "id": "f7ac2962",
   "metadata": {},
   "outputs": [],
   "source": [
    "cdf = pycdf.CDF('wi_h1_swe_20120101_v01.cdf')"
   ]
  },
  {
   "cell_type": "code",
   "execution_count": 9,
   "id": "3d28bcd6",
   "metadata": {},
   "outputs": [
    {
     "data": {
      "text/plain": [
       "<CDF:\n",
       "Alpha_Na_nonlin: CDF_FLOAT [872]\n",
       "Alpha_VX_nonlin: CDF_FLOAT [872]\n",
       "Alpha_VY_nonlin: CDF_FLOAT [872]\n",
       "Alpha_VZ_nonlin: CDF_FLOAT [872]\n",
       "Alpha_V_nonlin: CDF_FLOAT [872]\n",
       "Alpha_W_nonlin: CDF_FLOAT [872]\n",
       "Alpha_Wpar_nonlin: CDF_FLOAT [872]\n",
       "Alpha_Wperp_nonlin: CDF_FLOAT [872]\n",
       "Alpha_sigmaNa_nonlin: CDF_FLOAT [872]\n",
       "Alpha_sigmaVX_nonlin: CDF_FLOAT [872]\n",
       "Alpha_sigmaVY_nonlin: CDF_FLOAT [872]\n",
       "Alpha_sigmaVZ_nonlin: CDF_FLOAT [872]\n",
       "Alpha_sigmaV_nonlin: CDF_FLOAT [872]\n",
       "Alpha_sigmaW_nonlin: CDF_FLOAT [872]\n",
       "Alpha_sigmaWpar_nonlin: CDF_FLOAT [872]\n",
       "Alpha_sigmaWperp_nonlin: CDF_FLOAT [872]\n",
       "Ang_dev: CDF_FLOAT [872]\n",
       "BX: CDF_FLOAT [872]\n",
       "BY: CDF_FLOAT [872]\n",
       "BZ: CDF_FLOAT [872]\n",
       "ChisQ_DOF_nonlin: CDF_FLOAT [872]\n",
       "EW_flowangle: CDF_FLOAT [872]\n",
       "Epoch: CDF_EPOCH [872]\n",
       "NS_flowangle: CDF_FLOAT [872]\n",
       "Peak_doy: CDF_DOUBLE [872]\n",
       "Proton_Np_moment: CDF_FLOAT [872]\n",
       "Proton_Np_nonlin: CDF_FLOAT [872]\n",
       "Proton_VX_moment: CDF_FLOAT [872]\n",
       "Proton_VX_nonlin: CDF_FLOAT [872]\n",
       "Proton_VY_moment: CDF_FLOAT [872]\n",
       "Proton_VY_nonlin: CDF_FLOAT [872]\n",
       "Proton_VZ_moment: CDF_FLOAT [872]\n",
       "Proton_VZ_nonlin: CDF_FLOAT [872]\n",
       "Proton_V_moment: CDF_FLOAT [872]\n",
       "Proton_V_nonlin: CDF_FLOAT [872]\n",
       "Proton_W_moment: CDF_FLOAT [872]\n",
       "Proton_W_nonlin: CDF_FLOAT [872]\n",
       "Proton_Wpar_moment: CDF_FLOAT [872]\n",
       "Proton_Wpar_nonlin: CDF_FLOAT [872]\n",
       "Proton_Wperp_moment: CDF_FLOAT [872]\n",
       "Proton_Wperp_nonlin: CDF_FLOAT [872]\n",
       "Proton_sigmaNp_nonlin: CDF_FLOAT [872]\n",
       "Proton_sigmaVX_nonlin: CDF_FLOAT [872]\n",
       "Proton_sigmaVY_nonlin: CDF_FLOAT [872]\n",
       "Proton_sigmaVZ_nonlin: CDF_FLOAT [872]\n",
       "Proton_sigmaV_nonlin: CDF_FLOAT [872]\n",
       "Proton_sigmaW_nonlin: CDF_FLOAT [872]\n",
       "Proton_sigmaWpar_nonlin: CDF_FLOAT [872]\n",
       "Proton_sigmaWperp_nonlin: CDF_FLOAT [872]\n",
       "SigmaEW_flowangle: CDF_FLOAT [872]\n",
       "SigmaNS_flowangle: CDF_FLOAT [872]\n",
       "dev: CDF_FLOAT [872]\n",
       "doy: CDF_FLOAT [872]\n",
       "fit_flag: CDF_INT1 [872]\n",
       "sigmaPeak_doy: CDF_DOUBLE [872]\n",
       "xgse: CDF_FLOAT [872]\n",
       "year: CDF_INT1 [872]\n",
       "ygse: CDF_FLOAT [872]\n",
       "ygsm: CDF_FLOAT [872]\n",
       "zgse: CDF_FLOAT [872]\n",
       "zgsm: CDF_FLOAT [872]\n",
       ">"
      ]
     },
     "execution_count": 9,
     "metadata": {},
     "output_type": "execute_result"
    }
   ],
   "source": [
    "cdf"
   ]
  },
  {
   "cell_type": "code",
   "execution_count": 50,
   "id": "0fe87ed6",
   "metadata": {},
   "outputs": [
    {
     "data": {
      "text/plain": [
       "<zAttrList:\n",
       "CATDESC: Alpha bulk speed V (km/s) from non-linear analysis [CDF_CHAR]\n",
       "DELTA_MINUS_VAR: Alpha_sigmaV_nonlin [CDF_CHAR]\n",
       "DELTA_PLUS_VAR: Alpha_sigmaV_nonlin [CDF_CHAR]\n",
       "DEPEND_0: Epoch [CDF_CHAR]\n",
       "DISPLAY_TYPE: time_series [CDF_CHAR]\n",
       "FIELDNAM: Alpha bulk speed V (km/s) from non-linear analysis [CDF_CHAR]\n",
       "FILLVAL: -1e+31 [CDF_FLOAT]\n",
       "FORMAT: E12.2 [CDF_CHAR]\n",
       "LABLAXIS: alpha bulk speed [CDF_CHAR]\n",
       "SCALETYP: linear [CDF_CHAR]\n",
       "UNITS: km/s [CDF_CHAR]\n",
       "VALIDMAX: 9999.99 [CDF_FLOAT]\n",
       "VALIDMIN: 0.0 [CDF_FLOAT]\n",
       "VAR_NOTES: Obtained from non-linear fitting to the ion current distribution function (CDF). [CDF_CHAR]\n",
       "VAR_TYPE: data [CDF_CHAR]\n",
       ">"
      ]
     },
     "execution_count": 50,
     "metadata": {},
     "output_type": "execute_result"
    }
   ],
   "source": [
    "cdf['Alpha_V_nonlin'].attrs"
   ]
  },
  {
   "cell_type": "code",
   "execution_count": 21,
   "id": "f8854f8f",
   "metadata": {},
   "outputs": [],
   "source": [
    "velocity = cdf['Alpha_V_nonlin'][:]"
   ]
  },
  {
   "cell_type": "code",
   "execution_count": 24,
   "id": "5636fb01",
   "metadata": {},
   "outputs": [],
   "source": [
    "splits = [i*int(len(velocity)/24) for i in range(25)]"
   ]
  },
  {
   "cell_type": "code",
   "execution_count": 39,
   "id": "67d0779f",
   "metadata": {},
   "outputs": [],
   "source": [
    "#split a day's data into 24 data points\n",
    "data = []\n",
    "for i in range(len(splits)-1):\n",
    "    avg = sum(velocity[splits[i]:splits[i+1]])/(splits[i+1]-splits[i])\n",
    "    data.append(avg)"
   ]
  },
  {
   "cell_type": "code",
   "execution_count": 40,
   "id": "6e1ce1ba",
   "metadata": {},
   "outputs": [
    {
     "data": {
      "text/plain": [
       "24"
      ]
     },
     "execution_count": 40,
     "metadata": {},
     "output_type": "execute_result"
    }
   ],
   "source": [
    "len(data)"
   ]
  },
  {
   "cell_type": "code",
   "execution_count": 45,
   "id": "b4300188",
   "metadata": {},
   "outputs": [],
   "source": [
    "windspeed_data = []"
   ]
  },
  {
   "cell_type": "code",
   "execution_count": 46,
   "id": "1de40d28",
   "metadata": {},
   "outputs": [],
   "source": [
    "for file in os.listdir(r'C:\\Users\\shres\\OneDrive\\Desktop\\windspeed'):\n",
    "    cdf = pycdf.CDF(file)\n",
    "    velocity = cdf['Alpha_V_nonlin'][:]\n",
    "    splits = [i*int(len(velocity)/24) for i in range(25)]\n",
    "    for i in range(len(splits)-1):\n",
    "        avg = sum(velocity[splits[i]:splits[i+1]])/(splits[i+1]-splits[i])\n",
    "        windspeed_data.append(avg)"
   ]
  },
  {
   "cell_type": "code",
   "execution_count": 52,
   "id": "6cc01eb3",
   "metadata": {},
   "outputs": [
    {
     "data": {
      "text/plain": [
       "8736"
      ]
     },
     "execution_count": 52,
     "metadata": {},
     "output_type": "execute_result"
    }
   ],
   "source": [
    "len(windspeed_data)"
   ]
  },
  {
   "cell_type": "code",
   "execution_count": 49,
   "id": "fbcaee4f",
   "metadata": {},
   "outputs": [
    {
     "data": {
      "text/plain": [
       "8736"
      ]
     },
     "execution_count": 49,
     "metadata": {},
     "output_type": "execute_result"
    }
   ],
   "source": [
    "24*364"
   ]
  },
  {
   "cell_type": "code",
   "execution_count": 63,
   "id": "943bab11",
   "metadata": {},
   "outputs": [
    {
     "data": {
      "text/plain": [
       "<zAttrList:\n",
       "CATDESC: Alpha bulk speed V (km/s) from non-linear analysis [CDF_CHAR]\n",
       "DELTA_MINUS_VAR: Alpha_sigmaV_nonlin [CDF_CHAR]\n",
       "DELTA_PLUS_VAR: Alpha_sigmaV_nonlin [CDF_CHAR]\n",
       "DEPEND_0: Epoch [CDF_CHAR]\n",
       "DISPLAY_TYPE: time_series [CDF_CHAR]\n",
       "FIELDNAM: Alpha bulk speed V (km/s) from non-linear analysis [CDF_CHAR]\n",
       "FILLVAL: -1e+31 [CDF_FLOAT]\n",
       "FORMAT: E12.2 [CDF_CHAR]\n",
       "LABLAXIS: alpha bulk speed [CDF_CHAR]\n",
       "SCALETYP: linear [CDF_CHAR]\n",
       "UNITS: km/s [CDF_CHAR]\n",
       "VALIDMAX: 9999.99 [CDF_FLOAT]\n",
       "VALIDMIN: 0.0 [CDF_FLOAT]\n",
       "VAR_NOTES: Obtained from non-linear fitting to the ion current distribution function (CDF). [CDF_CHAR]\n",
       "VAR_TYPE: data [CDF_CHAR]\n",
       ">"
      ]
     },
     "execution_count": 63,
     "metadata": {},
     "output_type": "execute_result"
    }
   ],
   "source": [
    "cdf['Alpha_V_nonlin'].attrs"
   ]
  },
  {
   "cell_type": "code",
   "execution_count": 60,
   "id": "e9be871b",
   "metadata": {},
   "outputs": [],
   "source": [
    "import matplotlib.pyplot as plt"
   ]
  },
  {
   "cell_type": "code",
   "execution_count": 62,
   "id": "16d5824a",
   "metadata": {},
   "outputs": [
    {
     "data": {
      "text/plain": [
       "[<matplotlib.lines.Line2D at 0x1fae359a0e0>]"
      ]
     },
     "execution_count": 62,
     "metadata": {},
     "output_type": "execute_result"
    },
    {
     "data": {
      "image/png": "[encoded data removed]",
      "text/plain": [
       "<Figure size 1440x720 with 1 Axes>"
      ]
     },
     "metadata": {
      "needs_background": "light"
     },
     "output_type": "display_data"
    }
   ],
   "source": [
    "plt.rcParams[\"figure.figsize\"] = (20,10)\n",
    "plt.plot(windspeed_data)"
   ]
  },
  {
   "cell_type": "code",
   "execution_count": 67,
   "id": "438a9664",
   "metadata": {},
   "outputs": [
    {
     "data": {
      "text/plain": [
       "11254.10996667366"
      ]
     },
     "execution_count": 67,
     "metadata": {},
     "output_type": "execute_result"
    }
   ],
   "source": [
    "sum(windspeed_data)/len(windspeed_data)"
   ]
  },
  {
   "cell_type": "code",
   "execution_count": 68,
   "id": "241d785c",
   "metadata": {},
   "outputs": [],
   "source": [
    "import scipy"
   ]
  },
  {
   "cell_type": "code",
   "execution_count": 69,
   "id": "e863beda",
   "metadata": {},
   "outputs": [
    {
     "name": "stderr",
     "output_type": "stream",
     "text": [
      "C:\\Users\\shres\\AppData\\Local\\Temp\\ipykernel_6072\\430340977.py:1: FutureWarning: Unlike other reduction functions (e.g. `skew`, `kurtosis`), the default behavior of `mode` typically preserves the axis it acts along. In SciPy 1.11.0, this behavior will change: the default value of `keepdims` will become False, the `axis` over which the statistic is taken will be eliminated, and the value None will no longer be accepted. Set `keepdims` to True or False to avoid this warning.\n",
      "  scipy.stats.mode(windspeed_data)\n"
     ]
    },
    {
     "data": {
      "text/plain": [
       "ModeResult(mode=array([99999.8984375]), count=array([115]))"
      ]
     },
     "execution_count": 69,
     "metadata": {},
     "output_type": "execute_result"
    }
   ],
   "source": [
    "scipy.stats.mode(windspeed_data)"
   ]
  },
  {
   "cell_type": "code",
   "execution_count": 71,
   "id": "27725d59",
   "metadata": {},
   "outputs": [],
   "source": [
    "import numpy as np"
   ]
  },
  {
   "cell_type": "code",
   "execution_count": 74,
   "id": "42e9dd82",
   "metadata": {},
   "outputs": [],
   "source": [
    "windspeed_data = np.array(windspeed_data, dtype='float32')"
   ]
  },
  {
   "cell_type": "code",
   "execution_count": 87,
   "id": "04714dfb",
   "metadata": {},
   "outputs": [
    {
     "data": {
      "text/plain": [
       "441.0931396484375"
      ]
     },
     "execution_count": 87,
     "metadata": {},
     "output_type": "execute_result"
    }
   ],
   "source": [
    "np.percentile(windspeed_data, 50)"
   ]
  },
  {
   "cell_type": "code",
   "execution_count": 92,
   "id": "0b3c3acb",
   "metadata": {},
   "outputs": [],
   "source": [
    "data = pd.DataFrame(windspeed_data, columns=['Windspeed (km/s)'])"
   ]
  },
  {
   "cell_type": "code",
   "execution_count": 95,
   "id": "e1ebbaec",
   "metadata": {},
   "outputs": [],
   "source": [
    "data.to_csv(r'C:\\Users\\shres\\windspeed.csv', index=False)"
   ]
  },
  {
   "cell_type": "code",
   "execution_count": 96,
   "id": "63be05ce",
   "metadata": {},
   "outputs": [
    {
     "data": {
      "text/html": [
       "<div>\n",
       "<style scoped>\n",
       "    .dataframe tbody tr th:only-of-type {\n",
       "        vertical-align: middle;\n",
       "    }\n",
       "\n",
       "    .dataframe tbody tr th {\n",
       "        vertical-align: top;\n",
       "    }\n",
       "\n",
       "    .dataframe thead th {\n",
       "        text-align: right;\n",
       "    }\n",
       "</style>\n",
       "<table border=\"1\" class=\"dataframe\">\n",
       "  <thead>\n",
       "    <tr style=\"text-align: right;\">\n",
       "      <th></th>\n",
       "      <th>Windspeed (km/s)</th>\n",
       "    </tr>\n",
       "  </thead>\n",
       "  <tbody>\n",
       "    <tr>\n",
       "      <th>count</th>\n",
       "      <td>8736.000000</td>\n",
       "    </tr>\n",
       "    <tr>\n",
       "      <th>mean</th>\n",
       "      <td>11254.110352</td>\n",
       "    </tr>\n",
       "    <tr>\n",
       "      <th>std</th>\n",
       "      <td>24083.380859</td>\n",
       "    </tr>\n",
       "    <tr>\n",
       "      <th>min</th>\n",
       "      <td>265.956268</td>\n",
       "    </tr>\n",
       "    <tr>\n",
       "      <th>25%</th>\n",
       "      <td>360.808060</td>\n",
       "    </tr>\n",
       "    <tr>\n",
       "      <th>50%</th>\n",
       "      <td>441.093140</td>\n",
       "    </tr>\n",
       "    <tr>\n",
       "      <th>75%</th>\n",
       "      <td>6122.784302</td>\n",
       "    </tr>\n",
       "    <tr>\n",
       "      <th>max</th>\n",
       "      <td>99999.898438</td>\n",
       "    </tr>\n",
       "  </tbody>\n",
       "</table>\n",
       "</div>"
      ],
      "text/plain": [
       "       Windspeed (km/s)\n",
       "count       8736.000000\n",
       "mean       11254.110352\n",
       "std        24083.380859\n",
       "min          265.956268\n",
       "25%          360.808060\n",
       "50%          441.093140\n",
       "75%         6122.784302\n",
       "max        99999.898438"
      ]
     },
     "execution_count": 96,
     "metadata": {},
     "output_type": "execute_result"
    }
   ],
   "source": [
    "data.describe()"
   ]
  },
  {
   "cell_type": "code",
   "execution_count": null,
   "id": "f8219c07",
   "metadata": {},
   "outputs": [],
   "source": []
  }
 ],
 "metadata": {
  "kernelspec": {
   "display_name": "Python 3 (ipykernel)",
   "language": "python",
   "name": "python3"
  },
  "language_info": {
   "codemirror_mode": {
    "name": "ipython",
    "version": 3
   },
   "file_extension": ".py",
   "mimetype": "text/x-python",
   "name": "python",
   "nbconvert_exporter": "python",
   "pygments_lexer": "ipython3",
   "version": "3.10.5"
  }
 },
 "nbformat": 4,
 "nbformat_minor": 5
}
