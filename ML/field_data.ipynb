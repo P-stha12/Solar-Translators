{
 "cells": [
  {
   "cell_type": "code",
   "execution_count": 3,
   "id": "3d8bd668",
   "metadata": {},
   "outputs": [],
   "source": [
    "import pandas as pd\n",
    "import os\n",
    "from spacepy import pycdf"
   ]
  },
  {
   "cell_type": "code",
   "execution_count": 2,
   "id": "6b5c7487",
   "metadata": {},
   "outputs": [],
   "source": [
    "os.chdir(r'C:\\Users\\shres\\OneDrive\\Desktop\\magnetic')"
   ]
  },
  {
   "cell_type": "code",
   "execution_count": 4,
   "id": "7ba92de2",
   "metadata": {},
   "outputs": [],
   "source": [
    "cdf = pycdf.CDF('wi_h2_mfi_20120101_v05.cdf')"
   ]
  },
  {
   "cell_type": "code",
   "execution_count": 5,
   "id": "1a73553c",
   "metadata": {},
   "outputs": [
    {
     "data": {
      "text/plain": [
       "<CDF:\n",
       "AMPL1_I: CDF_REAL4 [1440, 3, 8]\n",
       "AMPL1_O: CDF_REAL4 [1440, 3, 8]\n",
       "BF1: CDF_REAL4 [931363, 1]\n",
       "BGSE: CDF_REAL4 [931363, 3]\n",
       "BGSM: CDF_REAL4 [931363, 3]\n",
       "Epoch: CDF_EPOCH [931363, 1]\n",
       "Epoch1: CDF_EPOCH [1440, 1]\n",
       "FLAG1_I: CDF_INT4 [1440, 1]\n",
       "FLAG1_O: CDF_INT4 [1440, 1]\n",
       "MAG_MODE: CDF_INT4 [931363, 1]\n",
       "NUM1_PTS_I: CDF_INT4 [1440, 1]\n",
       "NUM1_PTS_O: CDF_INT4 [1440, 1]\n",
       "ORTH1_I: CDF_REAL8 [1440, 3, 3]\n",
       "ORTH1_O: CDF_REAL8 [1440, 3, 3]\n",
       "PAYLD1_I: CDF_REAL8 [1440, 3, 3]\n",
       "PAYLD1_O: CDF_REAL8 [1440, 3, 3]\n",
       "RANGE: CDF_INT4 [931363, 1]\n",
       "SENS1_I: CDF_REAL4 [1440, 3, 8]\n",
       "SENS1_O: CDF_REAL4 [1440, 3, 8]\n",
       "SPC_MODE: CDF_INT4 [931363, 1]\n",
       "Time1_PB5: CDF_INT4 [1440, 3]\n",
       "Time_PB5: CDF_INT4 [931363, 3]\n",
       "ZERO1_I: CDF_REAL4 [1440, 3, 8]\n",
       "ZERO1_O: CDF_REAL4 [1440, 3, 8]\n",
       "cartesian: CDF_CHAR*11 [3] NRV\n",
       "format_time: CDF_CHAR*2 [3] NRV\n",
       "label_bgse: CDF_CHAR*8 [3] NRV\n",
       "label_bgsm: CDF_CHAR*8 [3] NRV\n",
       "label_time: CDF_CHAR*27 [3] NRV\n",
       "unit_time: CDF_CHAR*4 [3] NRV\n",
       ">"
      ]
     },
     "execution_count": 5,
     "metadata": {},
     "output_type": "execute_result"
    }
   ],
   "source": [
    "cdf"
   ]
  },
  {
   "cell_type": "code",
   "execution_count": 10,
   "id": "d5de5220",
   "metadata": {},
   "outputs": [
    {
     "data": {
      "text/plain": [
       "<zAttrList:\n",
       "CATDESC: Magnetic field magnitude [CDF_CHAR]\n",
       "DEPEND_0: Epoch [CDF_CHAR]\n",
       "FIELDNAM: Magnetic field magnitude [CDF_CHAR]\n",
       "FILLVAL: -1e+31 [CDF_FLOAT]\n",
       "FORMAT: E13.6 [CDF_CHAR]\n",
       "LABLAXIS: B [CDF_CHAR]\n",
       "MONOTON: FALSE [CDF_CHAR]\n",
       "SCALEMAX: 6.817253 [CDF_FLOAT]\n",
       "SCALEMIN: 0.3544124 [CDF_FLOAT]\n",
       "SCALETYP: LINEAR [CDF_CHAR]\n",
       "TIME_RES: Variable [CDF_CHAR]\n",
       "UNITS: nT [CDF_CHAR]\n",
       "VALIDMAX: 65534.0 [CDF_FLOAT]\n",
       "VALIDMIN: 0.0 [CDF_FLOAT]\n",
       "VAR_NOTES: B field Magnitude [CDF_CHAR]\n",
       "VAR_TYPE: data [CDF_CHAR]\n",
       ">"
      ]
     },
     "execution_count": 10,
     "metadata": {},
     "output_type": "execute_result"
    }
   ],
   "source": [
    "cdf['BF1'].attrs"
   ]
  },
  {
   "cell_type": "code",
   "execution_count": 11,
   "id": "6606467b",
   "metadata": {},
   "outputs": [],
   "source": [
    "field = cdf['BF1'][:]"
   ]
  },
  {
   "cell_type": "code",
   "execution_count": 13,
   "id": "fa42e77e",
   "metadata": {},
   "outputs": [],
   "source": [
    "field = field[:,0]"
   ]
  },
  {
   "cell_type": "code",
   "execution_count": 14,
   "id": "834bb74c",
   "metadata": {},
   "outputs": [
    {
     "data": {
      "text/plain": [
       "array([4.711877 , 4.734338 , 4.7184553, ..., 3.0847285, 3.0717132,\n",
       "       3.1115007], dtype=float32)"
      ]
     },
     "execution_count": 14,
     "metadata": {},
     "output_type": "execute_result"
    }
   ],
   "source": [
    "field"
   ]
  },
  {
   "cell_type": "code",
   "execution_count": 15,
   "id": "57841bfa",
   "metadata": {},
   "outputs": [],
   "source": [
    "splits = [i*int(len(field)/24) for i in range(25)]"
   ]
  },
  {
   "cell_type": "code",
   "execution_count": 16,
   "id": "c8ec4c03",
   "metadata": {},
   "outputs": [],
   "source": [
    "data = []\n",
    "for i in range(len(splits)-1):\n",
    "    avg = sum(field[splits[i]:splits[i+1]])/(splits[i+1]-splits[i])\n",
    "    data.append(avg)"
   ]
  },
  {
   "cell_type": "code",
   "execution_count": 19,
   "id": "74b5fb25",
   "metadata": {},
   "outputs": [],
   "source": [
    "field_data = []"
   ]
  },
  {
   "cell_type": "code",
   "execution_count": 20,
   "id": "790378d2",
   "metadata": {},
   "outputs": [],
   "source": [
    "from tqdm import tqdm"
   ]
  },
  {
   "cell_type": "code",
   "execution_count": 21,
   "id": "c216bf6d",
   "metadata": {},
   "outputs": [
    {
     "name": "stderr",
     "output_type": "stream",
     "text": [
      "100%|████████████████████████████████████████████████████████████████████████████████| 294/294 [08:47<00:00,  1.79s/it]\n"
     ]
    }
   ],
   "source": [
    "for file in tqdm(os.listdir(r'C:\\Users\\shres\\OneDrive\\Desktop\\magnetic')):\n",
    "    cdf = pycdf.CDF(file)\n",
    "    field = cdf['BF1'][:]\n",
    "    splits = [i*int(len(field)/24) for i in range(25)]\n",
    "    for i in range(len(splits)-1):\n",
    "        avg = sum(field[splits[i]:splits[i+1]])/(splits[i+1]-splits[i])\n",
    "        field_data.append(avg)"
   ]
  },
  {
   "cell_type": "code",
   "execution_count": 39,
   "id": "5c38366c",
   "metadata": {},
   "outputs": [],
   "source": [
    "import numpy as np\n",
    "field_data = np.array(field_data[:])"
   ]
  },
  {
   "cell_type": "code",
   "execution_count": 42,
   "id": "a02bca14",
   "metadata": {},
   "outputs": [],
   "source": [
    "field_data = field_data[:,0]"
   ]
  },
  {
   "cell_type": "code",
   "execution_count": 43,
   "id": "d37fc8cd",
   "metadata": {},
   "outputs": [
    {
     "data": {
      "text/plain": [
       "7056"
      ]
     },
     "execution_count": 43,
     "metadata": {},
     "output_type": "execute_result"
    }
   ],
   "source": [
    "len(field_data)"
   ]
  },
  {
   "cell_type": "code",
   "execution_count": 24,
   "id": "f4a2eb9a",
   "metadata": {},
   "outputs": [
    {
     "data": {
      "text/plain": [
       "294.0"
      ]
     },
     "execution_count": 24,
     "metadata": {},
     "output_type": "execute_result"
    }
   ],
   "source": [
    "7056/24"
   ]
  },
  {
   "cell_type": "code",
   "execution_count": 44,
   "id": "bc1a5a52",
   "metadata": {},
   "outputs": [],
   "source": [
    "import pandas as pd\n",
    "field = pd.DataFrame(field_data, columns=['Field (nT)'])"
   ]
  },
  {
   "cell_type": "code",
   "execution_count": 45,
   "id": "850fc194",
   "metadata": {},
   "outputs": [],
   "source": [
    "field.to_csv(r'C:\\Users\\shres\\field.csv', index=False)"
   ]
  },
  {
   "cell_type": "code",
   "execution_count": 46,
   "id": "0f194b0f",
   "metadata": {},
   "outputs": [
    {
     "data": {
      "text/html": [
       "<div>\n",
       "<style scoped>\n",
       "    .dataframe tbody tr th:only-of-type {\n",
       "        vertical-align: middle;\n",
       "    }\n",
       "\n",
       "    .dataframe tbody tr th {\n",
       "        vertical-align: top;\n",
       "    }\n",
       "\n",
       "    .dataframe thead th {\n",
       "        text-align: right;\n",
       "    }\n",
       "</style>\n",
       "<table border=\"1\" class=\"dataframe\">\n",
       "  <thead>\n",
       "    <tr style=\"text-align: right;\">\n",
       "      <th></th>\n",
       "      <th>Field (nT)</th>\n",
       "    </tr>\n",
       "  </thead>\n",
       "  <tbody>\n",
       "    <tr>\n",
       "      <th>count</th>\n",
       "      <td>7056.000000</td>\n",
       "    </tr>\n",
       "    <tr>\n",
       "      <th>mean</th>\n",
       "      <td>5.873506</td>\n",
       "    </tr>\n",
       "    <tr>\n",
       "      <th>std</th>\n",
       "      <td>3.126742</td>\n",
       "    </tr>\n",
       "    <tr>\n",
       "      <th>min</th>\n",
       "      <td>0.935519</td>\n",
       "    </tr>\n",
       "    <tr>\n",
       "      <th>25%</th>\n",
       "      <td>3.898069</td>\n",
       "    </tr>\n",
       "    <tr>\n",
       "      <th>50%</th>\n",
       "      <td>5.113391</td>\n",
       "    </tr>\n",
       "    <tr>\n",
       "      <th>75%</th>\n",
       "      <td>6.894895</td>\n",
       "    </tr>\n",
       "    <tr>\n",
       "      <th>max</th>\n",
       "      <td>39.943233</td>\n",
       "    </tr>\n",
       "  </tbody>\n",
       "</table>\n",
       "</div>"
      ],
      "text/plain": [
       "        Field (nT)\n",
       "count  7056.000000\n",
       "mean      5.873506\n",
       "std       3.126742\n",
       "min       0.935519\n",
       "25%       3.898069\n",
       "50%       5.113391\n",
       "75%       6.894895\n",
       "max      39.943233"
      ]
     },
     "execution_count": 46,
     "metadata": {},
     "output_type": "execute_result"
    }
   ],
   "source": [
    "field.describe()"
   ]
  },
  {
   "cell_type": "code",
   "execution_count": null,
   "id": "32098b6e",
   "metadata": {},
   "outputs": [],
   "source": []
  }
 ],
 "metadata": {
  "kernelspec": {
   "display_name": "Python 3 (ipykernel)",
   "language": "python",
   "name": "python3"
  },
  "language_info": {
   "codemirror_mode": {
    "name": "ipython",
    "version": 3
   },
   "file_extension": ".py",
   "mimetype": "text/x-python",
   "name": "python",
   "nbconvert_exporter": "python",
   "pygments_lexer": "ipython3",
   "version": "3.10.5"
  }
 },
 "nbformat": 4,
 "nbformat_minor": 5
}
