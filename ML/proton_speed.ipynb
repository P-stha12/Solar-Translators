{
 "cells": [
  {
   "cell_type": "code",
   "execution_count": 2,
   "id": "fa166144",
   "metadata": {},
   "outputs": [],
   "source": [
    "import pandas as pd\n",
    "import os"
   ]
  },
  {
   "cell_type": "code",
   "execution_count": 4,
   "id": "adc438d8",
   "metadata": {},
   "outputs": [],
   "source": [
    "os.chdir(r'C:\\Users\\shres\\OneDrive\\Desktop\\windspeed')"
   ]
  },
  {
   "cell_type": "code",
   "execution_count": 5,
   "id": "d88fcf65",
   "metadata": {},
   "outputs": [],
   "source": [
    "from spacepy import pycdf"
   ]
  },
  {
   "cell_type": "code",
   "execution_count": 6,
   "id": "f7ac2962",
   "metadata": {},
   "outputs": [],
   "source": [
    "cdf = pycdf.CDF('wi_h1_swe_20120101_v01.cdf')"
   ]
  },
  {
   "cell_type": "code",
   "execution_count": 7,
   "id": "3d28bcd6",
   "metadata": {},
   "outputs": [
    {
     "data": {
      "text/plain": [
       "<CDF:\n",
       "Alpha_Na_nonlin: CDF_FLOAT [872]\n",
       "Alpha_VX_nonlin: CDF_FLOAT [872]\n",
       "Alpha_VY_nonlin: CDF_FLOAT [872]\n",
       "Alpha_VZ_nonlin: CDF_FLOAT [872]\n",
       "Alpha_V_nonlin: CDF_FLOAT [872]\n",
       "Alpha_W_nonlin: CDF_FLOAT [872]\n",
       "Alpha_Wpar_nonlin: CDF_FLOAT [872]\n",
       "Alpha_Wperp_nonlin: CDF_FLOAT [872]\n",
       "Alpha_sigmaNa_nonlin: CDF_FLOAT [872]\n",
       "Alpha_sigmaVX_nonlin: CDF_FLOAT [872]\n",
       "Alpha_sigmaVY_nonlin: CDF_FLOAT [872]\n",
       "Alpha_sigmaVZ_nonlin: CDF_FLOAT [872]\n",
       "Alpha_sigmaV_nonlin: CDF_FLOAT [872]\n",
       "Alpha_sigmaW_nonlin: CDF_FLOAT [872]\n",
       "Alpha_sigmaWpar_nonlin: CDF_FLOAT [872]\n",
       "Alpha_sigmaWperp_nonlin: CDF_FLOAT [872]\n",
       "Ang_dev: CDF_FLOAT [872]\n",
       "BX: CDF_FLOAT [872]\n",
       "BY: CDF_FLOAT [872]\n",
       "BZ: CDF_FLOAT [872]\n",
       "ChisQ_DOF_nonlin: CDF_FLOAT [872]\n",
       "EW_flowangle: CDF_FLOAT [872]\n",
       "Epoch: CDF_EPOCH [872]\n",
       "NS_flowangle: CDF_FLOAT [872]\n",
       "Peak_doy: CDF_DOUBLE [872]\n",
       "Proton_Np_moment: CDF_FLOAT [872]\n",
       "Proton_Np_nonlin: CDF_FLOAT [872]\n",
       "Proton_VX_moment: CDF_FLOAT [872]\n",
       "Proton_VX_nonlin: CDF_FLOAT [872]\n",
       "Proton_VY_moment: CDF_FLOAT [872]\n",
       "Proton_VY_nonlin: CDF_FLOAT [872]\n",
       "Proton_VZ_moment: CDF_FLOAT [872]\n",
       "Proton_VZ_nonlin: CDF_FLOAT [872]\n",
       "Proton_V_moment: CDF_FLOAT [872]\n",
       "Proton_V_nonlin: CDF_FLOAT [872]\n",
       "Proton_W_moment: CDF_FLOAT [872]\n",
       "Proton_W_nonlin: CDF_FLOAT [872]\n",
       "Proton_Wpar_moment: CDF_FLOAT [872]\n",
       "Proton_Wpar_nonlin: CDF_FLOAT [872]\n",
       "Proton_Wperp_moment: CDF_FLOAT [872]\n",
       "Proton_Wperp_nonlin: CDF_FLOAT [872]\n",
       "Proton_sigmaNp_nonlin: CDF_FLOAT [872]\n",
       "Proton_sigmaVX_nonlin: CDF_FLOAT [872]\n",
       "Proton_sigmaVY_nonlin: CDF_FLOAT [872]\n",
       "Proton_sigmaVZ_nonlin: CDF_FLOAT [872]\n",
       "Proton_sigmaV_nonlin: CDF_FLOAT [872]\n",
       "Proton_sigmaW_nonlin: CDF_FLOAT [872]\n",
       "Proton_sigmaWpar_nonlin: CDF_FLOAT [872]\n",
       "Proton_sigmaWperp_nonlin: CDF_FLOAT [872]\n",
       "SigmaEW_flowangle: CDF_FLOAT [872]\n",
       "SigmaNS_flowangle: CDF_FLOAT [872]\n",
       "dev: CDF_FLOAT [872]\n",
       "doy: CDF_FLOAT [872]\n",
       "fit_flag: CDF_INT1 [872]\n",
       "sigmaPeak_doy: CDF_DOUBLE [872]\n",
       "xgse: CDF_FLOAT [872]\n",
       "year: CDF_INT1 [872]\n",
       "ygse: CDF_FLOAT [872]\n",
       "ygsm: CDF_FLOAT [872]\n",
       "zgse: CDF_FLOAT [872]\n",
       "zgsm: CDF_FLOAT [872]\n",
       ">"
      ]
     },
     "execution_count": 7,
     "metadata": {},
     "output_type": "execute_result"
    }
   ],
   "source": [
    "cdf"
   ]
  },
  {
   "cell_type": "code",
   "execution_count": 9,
   "id": "0fe87ed6",
   "metadata": {},
   "outputs": [
    {
     "data": {
      "text/plain": [
       "array([388.28253, 389.46982, 389.5889 , 393.6907 , 392.13675, 390.0496 ,\n",
       "       387.07645, 375.95685, 379.03433, 384.44168, 393.13022, 393.55988,\n",
       "       394.59656, 392.1765 , 390.55017, 390.63837, 391.77927, 391.9998 ,\n",
       "       394.61304, 395.00357, 393.90698, 391.91074, 391.03568, 389.04996,\n",
       "       387.9322 , 387.5705 , 394.29205, 389.5143 , 391.04758, 377.3405 ,\n",
       "       385.45767, 380.81265, 384.9855 , 388.22888, 389.73352, 383.32367,\n",
       "       382.5543 , 385.59866, 387.63654, 387.72968, 387.40817, 384.83768,\n",
       "       384.92346, 383.23267, 383.333  , 378.4309 , 374.8576 , 376.53775,\n",
       "       380.49792, 380.75378, 384.25693, 392.562  , 388.2205 , 383.75217,\n",
       "       384.27615, 388.76627, 388.08597, 387.88513, 389.1202 , 379.71667,\n",
       "       378.09613, 377.96756, 378.49786, 376.956  , 378.1526 , 380.6447 ,\n",
       "       376.96664, 378.98038, 380.7836 , 380.30978, 382.9602 , 380.2001 ,\n",
       "       381.83817, 383.1576 , 378.32263, 380.7784 , 379.81567, 380.94827,\n",
       "       383.91254, 378.54324, 378.0338 , 378.6286 , 380.58704, 371.2349 ,\n",
       "       371.62375, 376.57654, 375.84543, 373.526  , 377.26602, 377.68365,\n",
       "       375.2024 , 375.28165, 374.39627, 373.7799 , 370.99625, 373.3407 ,\n",
       "       373.88736, 371.61963, 377.49463, 371.65823, 368.19226, 370.11722,\n",
       "       373.43472, 373.65714, 375.42157, 377.90784, 378.27277, 376.47516,\n",
       "       374.98676, 375.01093, 378.1032 , 378.48474, 372.20068, 375.33154,\n",
       "       372.25513, 375.88593, 377.39307, 378.17694, 378.1396 , 378.35342,\n",
       "       375.07596, 373.78503, 373.0193 , 371.5259 , 373.76862, 372.9629 ,\n",
       "       368.44708, 367.9287 , 370.78055, 373.33292, 373.67715, 373.14752,\n",
       "       372.69214, 375.75684, 375.8108 , 375.7864 , 372.3602 , 369.0071 ,\n",
       "       369.8132 , 367.75125, 367.24182, 361.52237, 359.84756, 359.3038 ,\n",
       "       359.06424, 364.1724 , 364.83984, 363.78802, 363.90567, 365.03336,\n",
       "       365.52444, 366.297  , 365.32416, 362.9627 , 373.7363 , 370.11942,\n",
       "       370.4085 , 368.33527, 369.96857, 372.0338 , 373.10016, 370.7055 ,\n",
       "       370.23068, 371.33426, 370.95096, 370.0758 , 371.9357 , 375.58395,\n",
       "       375.07666, 375.00516, 372.10065, 371.52695, 369.14288, 371.30185,\n",
       "       371.80124, 369.99765, 369.1754 , 371.7561 , 372.24786, 371.4871 ,\n",
       "       373.5445 , 372.2413 , 373.23605, 374.0412 , 373.27496, 370.07013,\n",
       "       370.4371 , 371.86108, 372.7653 , 370.65952, 370.10214, 369.21378,\n",
       "       369.04242, 370.20532, 370.50534, 370.28305, 372.33755, 372.0486 ,\n",
       "       370.9747 , 371.12064, 370.25742, 368.7674 , 369.68802, 369.90384,\n",
       "       368.3974 , 366.82437, 367.55453, 366.8286 , 366.60294, 368.9775 ,\n",
       "       365.5508 , 367.2109 , 366.02762, 365.9778 , 365.20535, 370.26178,\n",
       "       371.39886, 372.63113, 370.43384, 369.63123, 366.22247, 367.61313,\n",
       "       369.38766, 368.41748, 368.8191 , 365.33157, 364.91412, 365.71045,\n",
       "       365.0885 , 364.98526, 364.40073, 364.36407, 365.54605, 365.6933 ,\n",
       "       366.88226, 365.75464, 361.48386, 365.212  , 362.82394, 360.57147,\n",
       "       361.94888, 361.23947, 361.0051 , 359.2845 , 362.97128, 360.77774,\n",
       "       360.4333 , 361.1233 , 361.76022, 361.0291 , 360.81055, 362.15268,\n",
       "       361.9901 , 362.17844, 362.13245, 361.94806, 363.75278, 363.55246,\n",
       "       367.4771 , 360.84442, 362.29007, 364.4159 , 365.3007 , 365.1279 ,\n",
       "       357.6776 , 357.71066, 359.45624, 357.3455 , 356.53296, 357.92157,\n",
       "       358.16388, 360.39435, 360.75354, 363.8783 , 358.75342, 361.44073,\n",
       "       362.2301 , 362.20267, 365.49606, 371.53473, 371.8563 , 372.0246 ,\n",
       "       371.88913, 373.0934 , 374.15143, 373.15787, 372.0951 , 365.87595,\n",
       "       363.62387, 369.45596, 364.63232, 367.62442, 368.30368, 367.61124,\n",
       "       364.43295, 364.9023 , 367.49112, 367.80197, 367.46674, 368.29474,\n",
       "       369.22437, 368.78574, 369.30185, 369.98065, 370.63168, 371.09357,\n",
       "       373.8777 , 370.12265, 371.21063, 371.2629 , 370.54416, 371.1005 ,\n",
       "       372.31244, 373.67642, 371.3738 , 370.55203, 368.1235 , 367.42792,\n",
       "       371.4095 , 371.84427, 369.77545, 368.76584, 368.23404, 366.55692,\n",
       "       366.48355, 369.81882, 359.97928, 363.97247, 365.71957, 366.42358,\n",
       "       361.62256, 363.33664, 367.24652, 364.2231 , 362.82346, 362.0444 ,\n",
       "       367.9219 , 363.83167, 365.67654, 368.78052, 365.25876, 366.03568,\n",
       "       365.91632, 370.9112 , 370.532  , 370.205  , 367.11908, 367.56415,\n",
       "       368.22247, 367.71756, 366.41806, 366.8107 , 368.64462, 367.78168,\n",
       "       365.47363, 365.9518 , 366.47714, 365.09845, 355.403  , 375.14307,\n",
       "       374.988  , 367.99744, 369.58826, 371.2257 , 371.19406, 372.109  ,\n",
       "       370.6765 , 365.07593, 365.17178, 367.3058 , 364.29797, 362.56302,\n",
       "       359.7356 , 362.68216, 371.67773, 375.4004 , 365.4331 , 372.98178,\n",
       "       371.832  , 372.31143, 371.91562, 372.71606, 374.88455, 375.77563,\n",
       "       373.08127, 373.37317, 373.25262, 373.11896, 370.81097, 373.5434 ,\n",
       "       372.58984, 373.68954, 376.8102 , 376.61798, 376.17282, 377.43585,\n",
       "       376.43576, 378.35614, 377.11365, 376.72345, 376.76767, 374.4533 ,\n",
       "       374.05292, 374.46048, 374.19843, 374.548  , 373.84933, 373.37195,\n",
       "       372.19443, 370.19577, 369.7738 , 369.98996, 369.73965, 369.68546,\n",
       "       368.91864, 367.69818, 366.01538, 366.44806, 367.44424, 369.50613,\n",
       "       370.26718, 370.53104, 371.31134, 371.0595 , 370.80328, 370.99268,\n",
       "       371.4633 , 370.9505 , 370.61194, 370.59006, 369.5656 , 369.3175 ,\n",
       "       369.09296, 368.98004, 370.0832 , 370.265  , 370.6666 , 371.08844,\n",
       "       367.08243, 367.0823 , 366.87857, 366.55304, 369.23178, 368.49005,\n",
       "       368.65628, 368.93176, 366.65955, 368.22333, 369.67273, 374.5321 ,\n",
       "       371.1763 , 369.67578, 383.3497 , 385.72583, 376.02588, 384.85672,\n",
       "       387.18912, 382.45084, 376.16302, 377.60297, 388.63968, 392.83835,\n",
       "       388.2918 , 373.94943, 372.91928, 372.70813, 371.90378, 372.6155 ,\n",
       "       373.46732, 372.4938 , 368.1232 , 366.46057, 365.41107, 362.89487,\n",
       "       364.53787, 365.0613 , 364.4865 , 363.79648, 362.25146, 365.0088 ,\n",
       "       363.98462, 362.95798, 360.5818 , 361.663  , 362.96964, 363.59128,\n",
       "       363.89383, 363.47275, 362.1873 , 361.6528 , 359.88925, 359.58667,\n",
       "       358.23526, 358.96426, 358.29105, 360.5677 , 360.25333, 358.78857,\n",
       "       358.04388, 359.2178 , 357.1119 , 358.98935, 358.8498 , 358.4151 ,\n",
       "       355.82697, 356.48096, 356.21606, 358.1356 , 358.18527, 357.62607,\n",
       "       359.10776, 358.35355, 358.29636, 357.9999 , 358.74316, 359.09814,\n",
       "       359.3897 , 358.8767 , 358.50375, 359.27924, 358.02603, 357.63513,\n",
       "       357.59113, 357.6342 , 357.5569 , 357.1271 , 356.64053, 359.0486 ,\n",
       "       358.98874, 357.41794, 357.51584, 357.26358, 357.2248 , 357.26532,\n",
       "       357.19205, 357.16098, 356.675  , 357.08997, 355.9433 , 356.1426 ,\n",
       "       356.0946 , 352.69885, 353.55188, 354.53998, 353.46967, 357.39532,\n",
       "       352.60522, 355.437  , 353.4274 , 351.73795, 353.2274 , 358.21976,\n",
       "       362.12726, 360.97018, 369.35635, 391.4052 , 390.30493, 390.62808,\n",
       "       390.00208, 390.27145, 390.45462, 390.25906, 390.38126, 386.4968 ,\n",
       "       364.48572, 388.069  , 387.76587, 385.47964, 386.35388, 387.779  ,\n",
       "       387.61716, 388.81805, 389.89743, 389.51517, 391.5684 , 392.62482,\n",
       "       393.12662, 391.71387, 393.34058, 393.41306, 393.50537, 395.9325 ,\n",
       "       394.4678 , 393.60123, 389.30157, 387.63934, 384.11874, 386.7581 ,\n",
       "       387.0643 , 387.52563, 387.23065, 389.29013, 384.01645, 385.72424,\n",
       "       385.3308 , 384.54538, 384.2195 , 384.64334, 383.17294, 381.4534 ,\n",
       "       380.78125, 380.75848, 379.48938, 380.2298 , 380.5899 , 380.25674,\n",
       "       379.61093, 379.97488, 380.57028, 380.61118, 379.3863 , 380.71097,\n",
       "       379.67767, 377.92282, 372.66144, 362.49957, 359.77258, 366.99585,\n",
       "       369.11478, 374.50067, 373.31158, 372.6608 , 372.36008, 375.4861 ,\n",
       "       376.18405, 378.56723, 379.83395, 380.73978, 379.06384, 379.4995 ,\n",
       "       375.5961 , 375.29007, 374.48526, 375.2913 , 376.33633, 377.27045,\n",
       "       377.66974, 375.7974 , 366.16278, 371.0929 , 369.01337, 366.42725,\n",
       "       365.6931 , 367.45944, 366.61127, 367.8273 , 367.1396 , 367.93878,\n",
       "       368.45422, 368.40372, 366.26917, 366.55505, 365.43793, 364.77527,\n",
       "       364.53912, 364.27753, 363.47903, 363.05997, 362.14886, 363.35007,\n",
       "       363.02945, 366.22318, 365.63437, 364.888  , 364.6606 , 366.16873,\n",
       "       364.6035 , 364.12845, 363.52374, 363.3583 , 363.91153, 363.89908,\n",
       "       364.86514, 364.4528 , 364.53842, 363.2045 , 364.8292 , 365.8527 ,\n",
       "       366.64438, 365.0282 , 364.70645, 364.2926 , 364.43738, 365.94678,\n",
       "       365.23608, 363.46863, 362.44205, 363.03378, 361.36194, 361.2411 ,\n",
       "       360.43015, 360.8664 , 360.44934, 362.68115, 360.66867, 362.1536 ,\n",
       "       361.84143, 364.65076, 360.3526 , 360.34845, 364.42087, 359.48648,\n",
       "       361.54486, 363.4568 , 364.9114 , 364.71432, 364.3155 , 359.53284,\n",
       "       360.8379 , 361.48233, 361.3408 , 361.59875, 361.60355, 362.84937,\n",
       "       363.99902, 366.00134, 363.9819 , 363.66168, 366.8529 , 365.42566,\n",
       "       368.00623, 364.94128, 368.37106, 368.49255, 369.1026 , 369.17688,\n",
       "       368.7358 , 366.46503, 366.98306, 367.0371 , 365.75815, 366.0684 ,\n",
       "       364.88232, 366.18036, 367.8153 , 365.0904 , 366.4365 , 366.39523,\n",
       "       366.71747, 367.64316, 367.52216, 367.1975 , 379.0136 , 368.72253,\n",
       "       368.7803 , 369.4633 , 370.726  , 368.96893, 368.5089 , 369.26328,\n",
       "       369.85672, 369.9691 , 369.46603, 369.9816 , 369.36957, 369.32535,\n",
       "       368.4037 , 367.926  , 368.2654 , 368.46725, 367.829  , 367.6759 ,\n",
       "       367.9798 , 368.5414 , 369.29416, 367.9284 , 368.05994, 368.55804,\n",
       "       370.1541 , 368.89706, 369.08124, 366.15942, 367.00693, 367.25967,\n",
       "       367.4102 , 369.12296, 367.2692 , 367.87378, 366.1736 , 366.69467,\n",
       "       368.20312, 367.0262 , 366.8944 , 367.23514, 366.81677, 367.08505,\n",
       "       367.26093, 364.9066 , 365.8311 , 366.68213, 364.46603, 366.46368,\n",
       "       366.35303, 367.4694 , 368.26562, 367.6329 , 368.9743 , 368.1515 ,\n",
       "       368.42377, 368.19183, 368.3826 , 367.84055, 367.98694, 367.51697,\n",
       "       367.58804, 367.3389 , 367.39148, 368.28506, 367.54343, 366.90518,\n",
       "       366.66077, 367.98358, 369.44702, 370.46945, 365.86337, 364.9565 ,\n",
       "       364.20908, 364.23163, 364.0712 , 363.91074, 364.03387, 362.43732,\n",
       "       366.09747, 365.62378, 368.7832 , 365.67435, 365.73975, 365.59644,\n",
       "       362.9966 , 364.68643, 365.2914 , 362.6729 , 364.94388, 367.63385,\n",
       "       365.23154, 364.8889 , 365.05917, 364.948  , 366.0188 , 366.0953 ,\n",
       "       365.52182, 363.8033 , 365.33337, 369.45767, 369.58432, 367.48752,\n",
       "       363.87756, 363.0414 , 365.2605 , 363.74417, 364.01   , 363.9915 ,\n",
       "       365.42294, 362.64746, 361.58624, 361.39233, 363.10968, 361.7652 ,\n",
       "       362.8652 , 361.88995, 361.41003, 363.85214, 362.60065, 361.69247,\n",
       "       361.59924, 360.21503, 361.19034, 360.55023, 360.71875, 360.76422,\n",
       "       360.18707, 359.88275], dtype=float32)"
      ]
     },
     "execution_count": 9,
     "metadata": {},
     "output_type": "execute_result"
    }
   ],
   "source": [
    "cdf['Proton_V_moment'][:]"
   ]
  },
  {
   "cell_type": "code",
   "execution_count": 10,
   "id": "6f2652d3",
   "metadata": {},
   "outputs": [
    {
     "data": {
      "text/plain": [
       "array([386.31277, 387.78693, 387.28085, 391.91663, 389.68793, 387.56815,\n",
       "       385.17102, 373.40378, 377.0514 , 383.3808 , 391.4638 , 391.67676,\n",
       "       392.1751 , 390.3753 , 388.03326, 387.79422, 389.25592, 389.7814 ,\n",
       "       392.1127 , 392.707  , 391.89508, 389.7268 , 388.34338, 386.52704,\n",
       "       385.67145, 385.72195, 392.16864, 388.5633 , 388.28354, 375.43436,\n",
       "       383.26694, 379.73947, 383.1957 , 386.179  , 387.5883 , 380.9752 ,\n",
       "       380.77646, 384.70404, 385.7143 , 386.39304, 385.9592 , 383.8181 ,\n",
       "       384.09656, 381.6155 , 381.34662, 376.83505, 373.77258, 375.73343,\n",
       "       377.5257 , 379.48837, 383.5665 , 390.5678 , 386.98196, 382.994  ,\n",
       "       383.45532, 387.24716, 385.5202 , 386.1629 , 386.5662 , 378.0798 ,\n",
       "       376.82156, 376.3605 , 377.07086, 375.01038, 376.5405 , 379.28867,\n",
       "       375.08875, 378.1317 , 378.26266, 378.29495, 380.94733, 378.41788,\n",
       "       380.2404 , 381.28162, 376.85788, 379.91348, 379.3524 , 381.46124,\n",
       "       383.9537 , 377.57263, 376.64413, 377.10992, 377.86298, 368.76758,\n",
       "       369.1936 , 375.70804, 374.28055, 372.47083, 375.66183, 375.349  ,\n",
       "       372.32468, 372.94046, 371.42587, 371.2724 , 368.93762, 371.6944 ,\n",
       "       370.96988, 370.25873, 374.79327, 369.6251 , 365.67816, 368.36365,\n",
       "       371.5037 , 372.09106, 373.32675, 375.53622, 376.06165, 374.60898,\n",
       "       373.64655, 372.90402, 375.9306 , 376.1282 , 371.0262 , 373.16626,\n",
       "       370.4933 , 374.50043, 375.69177, 376.84735, 376.983  , 377.05222,\n",
       "       373.88495, 372.87994, 372.20358, 370.6134 , 373.12152, 371.0408 ,\n",
       "       366.54657, 367.18243, 370.6821 , 372.90448, 373.1219 , 372.08783,\n",
       "       372.11172, 374.8285 , 374.4212 , 374.36334, 369.53506, 367.1694 ,\n",
       "       368.01056, 366.28613, 362.23776, 357.37686, 355.72205, 355.1205 ,\n",
       "       354.97064, 360.04477, 359.9189 , 360.47778, 359.57028, 360.26096,\n",
       "       361.30234, 362.35803, 361.30453, 359.4498 , 371.13724, 366.75244,\n",
       "       366.08536, 364.60403, 367.15393, 369.27856, 370.3593 , 367.99664,\n",
       "       367.29672, 368.37894, 368.06845, 367.08832, 369.39902, 373.19864,\n",
       "       371.3151 , 371.12686, 368.01605, 367.71036, 366.14816, 368.2366 ,\n",
       "       368.89557, 366.99905, 366.35507, 369.57358, 369.43863, 368.6174 ,\n",
       "       370.7951 , 370.414  , 371.13397, 371.94263, 371.16745, 367.86157,\n",
       "       367.35315, 369.1352 , 369.7044 , 367.268  , 366.12183, 364.32492,\n",
       "       363.78406, 366.06302, 368.13925, 368.3388 , 370.78775, 369.94122,\n",
       "       368.709  , 368.67374, 368.21747, 366.48315, 366.9911 , 366.9047 ,\n",
       "       365.80453, 362.6526 , 364.61505, 365.9082 , 363.57028, 367.3572 ,\n",
       "       361.86038, 364.14453, 363.5798 , 363.71878, 363.1409 , 368.60925,\n",
       "       369.4338 , 371.82407, 368.5046 , 367.11163, 364.0508 , 365.74152,\n",
       "       366.9726 , 366.1899 , 366.3962 , 362.90982, 362.60397, 364.23642,\n",
       "       362.5916 , 362.43646, 361.75623, 362.13672, 363.2271 , 363.093  ,\n",
       "       364.75424, 363.26242, 359.27502, 363.76648, 360.9537 , 358.15414,\n",
       "       360.02194, 359.56494, 359.00256, 356.9179 , 362.08752, 358.49774,\n",
       "       358.42764, 358.94824, 359.48712, 358.4915 , 358.6559 , 360.05542,\n",
       "       359.6225 , 360.03616, 359.98373, 359.86588, 361.12643, 361.94226,\n",
       "       365.35208, 359.14938, 361.13376, 362.91016, 363.84317, 363.43607,\n",
       "       354.50708, 354.4378 , 356.68033, 355.0847 , 354.04184, 354.36453,\n",
       "       354.228  , 357.1682 , 356.8532 , 361.6725 , 355.88715, 359.27463,\n",
       "       359.8922 , 360.7649 , 364.27667, 369.47992, 369.37814, 369.7075 ,\n",
       "       369.06046, 370.53003, 371.75504, 370.2664 , 369.1705 , 363.7447 ,\n",
       "       360.76492, 367.19247, 362.20776, 365.33948, 365.2469 , 363.63593,\n",
       "       360.5203 , 361.0342 , 364.24454, 364.63022, 365.67853, 366.25748,\n",
       "       367.7437 , 367.2287 , 367.45798, 368.41104, 368.93863, 369.75162,\n",
       "       372.3394 , 369.03256, 369.3206 , 369.39145, 368.94913, 369.7857 ,\n",
       "       370.92337, 369.68417, 369.0559 , 367.66934, 365.5255 , 364.75302,\n",
       "       368.384  , 369.903  , 368.36008, 367.1602 , 366.41348, 364.8848 ,\n",
       "       364.66553, 367.6179 , 359.5845 , 362.56534, 363.96805, 364.0303 ,\n",
       "       359.4118 , 361.1756 , 363.98373, 361.66882, 360.5501 , 360.51434,\n",
       "       365.174  , 361.3865 , 362.54834, 365.7183 , 362.5    , 363.41666,\n",
       "       362.61642, 369.55685, 368.00537, 367.46143, 364.32397, 364.48434,\n",
       "       365.52304, 365.07   , 363.56473, 364.49576, 366.6246 , 365.9485 ,\n",
       "       363.11423, 363.8184 , 365.01013, 362.4166 , 355.2652 , 372.39075,\n",
       "       372.20694, 367.05795, 367.32602, 367.9909 , 368.82684, 369.60013,\n",
       "       369.3105 , 362.70178, 363.41885, 364.80276, 361.6829 , 360.45132,\n",
       "       357.49402, 360.94305, 369.29193, 372.32684, 362.03745, 368.63766,\n",
       "       368.43454, 368.65042, 368.33105, 369.54242, 372.1535 , 373.2304 ,\n",
       "       370.2344 , 369.0855 , 371.5818 , 370.68265, 367.53848, 370.6927 ,\n",
       "       369.65234, 370.36322, 373.23123, 372.44025, 372.20645, 373.9892 ,\n",
       "       373.8928 , 374.6423 , 373.44702, 373.24323, 373.19833, 370.66544,\n",
       "       369.8198 , 370.18692, 370.10663, 370.4621 , 370.8025 , 368.98694,\n",
       "       367.93378, 366.297  , 365.6569 , 365.94135, 365.88358, 366.01694,\n",
       "       364.8051 , 363.62875, 362.60068, 362.41034, 362.95898, 365.1437 ,\n",
       "       366.13156, 366.33432, 366.24573, 366.74225, 366.55096, 367.11624,\n",
       "       368.47928, 366.36038, 366.39194, 365.99435, 365.23065, 365.0684 ,\n",
       "       364.8086 , 364.7907 , 365.77792, 366.08212, 367.6831 , 365.93433,\n",
       "       362.8189 , 362.806  , 361.7034 , 362.5874 , 363.5781 , 363.55627,\n",
       "       365.10416, 365.4521 , 364.93655, 365.41653, 368.52548, 372.60742,\n",
       "       369.21228, 368.34674, 380.92294, 383.0764 , 373.2277 , 381.48627,\n",
       "       379.59558, 379.2276 , 372.51987, 373.77203, 386.36288, 389.73688,\n",
       "       382.95648, 370.49756, 369.44672, 370.0162 , 368.74313, 369.81793,\n",
       "       369.97247, 368.5501 , 364.95602, 363.36526, 362.43246, 359.77774,\n",
       "       361.91913, 363.0777 , 362.0857 , 361.2241 , 358.7938 , 363.1948 ,\n",
       "       361.34625, 360.08652, 357.26157, 358.65567, 359.24078, 360.5067 ,\n",
       "       360.17102, 360.29047, 358.6611 , 358.29102, 356.6034 , 355.91577,\n",
       "       354.65222, 355.9909 , 355.57   , 358.02716, 356.27176, 355.24005,\n",
       "       354.61627, 355.1138 , 353.631  , 355.85028, 355.78766, 355.0446 ,\n",
       "       351.7268 , 353.0913 , 352.01428, 355.29904, 354.84595, 353.84122,\n",
       "       355.46536, 354.7773 , 354.80133, 354.22363, 355.63663, 356.33194,\n",
       "       355.78525, 355.84308, 355.17606, 356.15784, 354.86453, 354.13333,\n",
       "       354.53674, 353.68103, 354.11758, 354.27286, 353.92474, 355.883  ,\n",
       "       355.50217, 354.87183, 354.69696, 354.1554 , 354.10648, 354.06622,\n",
       "       354.4889 , 355.30396, 353.8701 , 354.64072, 353.709  , 353.90793,\n",
       "       353.75623, 350.49603, 351.47092, 352.45505, 350.95804, 355.34473,\n",
       "       350.43546, 353.5424 , 350.80994, 349.31326, 351.03592, 357.2552 ,\n",
       "       360.747  , 358.30368, 371.7262 , 387.59262, 387.04172, 386.44653,\n",
       "       386.45255, 386.33093, 387.07602, 386.68573, 386.26938, 382.49533,\n",
       "       372.9938 , 383.99982, 384.5838 , 380.6756 , 382.45804, 384.11203,\n",
       "       384.9685 , 385.0868 , 386.3957 , 386.049  , 387.97784, 389.0222 ,\n",
       "       389.79214, 388.22058, 389.84674, 390.05264, 389.77475, 392.6901 ,\n",
       "       391.36893, 390.47684, 385.93076, 383.72192, 380.52356, 383.70056,\n",
       "       384.27316, 383.4096 , 384.33957, 384.30795, 381.48105, 382.10422,\n",
       "       382.39136, 381.63934, 381.04608, 381.04056, 380.23764, 378.0754 ,\n",
       "       377.90952, 377.58063, 376.56732, 376.87473, 377.55307, 377.07632,\n",
       "       376.2979 , 376.80582, 377.126  , 377.21408, 376.45303, 377.2221 ,\n",
       "       376.95346, 374.57394, 369.22354, 358.87256, 357.02457, 364.96286,\n",
       "       366.6165 , 371.55933, 370.91678, 369.7413 , 370.2433 , 373.22513,\n",
       "       371.92697, 375.03146, 376.4449 , 377.31375, 375.6934 , 376.39963,\n",
       "       372.49783, 371.8206 , 371.95804, 372.5877 , 373.08008, 374.3698 ,\n",
       "       374.5584 , 372.46555, 362.6957 , 366.97552, 365.7958 , 363.6144 ,\n",
       "       363.596  , 364.62085, 363.3323 , 364.38028, 363.82327, 364.82315,\n",
       "       365.27863, 365.0313 , 362.7459 , 363.60995, 363.6743 , 362.50195,\n",
       "       362.32233, 361.30017, 361.29095, 360.6688 , 359.6011 , 360.9973 ,\n",
       "       360.66824, 363.74878, 363.24533, 362.4825 , 362.14932, 363.09418,\n",
       "       361.4104 , 360.37167, 359.96838, 360.03696, 361.18832, 361.265  ,\n",
       "       362.6666 , 361.39032, 361.14825, 360.5308 , 362.61734, 362.80786,\n",
       "       363.59137, 362.46768, 361.87756, 361.69714, 362.13406, 362.66013,\n",
       "       362.66864, 359.82263, 359.3796 , 359.265  , 358.55783, 358.2902 ,\n",
       "       357.51782, 357.4253 , 357.8593 , 359.11606, 357.3494 , 359.12317,\n",
       "       358.9558 , 360.97708, 357.21045, 357.28726, 360.15018, 356.97583,\n",
       "       359.04443, 360.5599 , 361.90018, 360.8696 , 360.5989 , 356.27606,\n",
       "       357.94492, 358.5359 , 358.3243 , 358.62256, 358.62076, 359.78036,\n",
       "       361.24506, 361.98685, 360.37613, 359.9168 , 363.12787, 361.9401 ,\n",
       "       364.35883, 361.2316 , 364.788  , 363.97968, 364.9776 , 365.05945,\n",
       "       364.58066, 362.6956 , 363.2754 , 363.49707, 362.71338, 362.6765 ,\n",
       "       362.0466 , 362.8799 , 364.0615 , 361.62378, 363.30862, 362.91168,\n",
       "       363.32867, 364.2468 , 363.6837 , 363.86752, 367.7347 , 365.276  ,\n",
       "       364.42212, 365.8025 , 367.02094, 365.17853, 364.76053, 365.2024 ,\n",
       "       366.3163 , 367.09293, 365.91794, 366.2039 , 365.5809 , 365.74042,\n",
       "       364.54077, 364.6653 , 364.71954, 364.84885, 364.50336, 364.45007,\n",
       "       364.0922 , 364.75302, 365.67996, 364.19287, 364.0736 , 365.06464,\n",
       "       366.83276, 365.41495, 366.18198, 363.21323, 363.62802, 363.3647 ,\n",
       "       364.02936, 365.47485, 363.2557 , 363.81317, 362.43045, 362.9653 ,\n",
       "       364.8477 , 364.33206, 363.57095, 363.92053, 363.40244, 363.81122,\n",
       "       363.7716 , 361.44473, 362.56012, 362.90088, 361.00848, 363.44308,\n",
       "       362.72064, 363.9423 , 364.23138, 363.3728 , 365.32016, 364.56442,\n",
       "       364.66946, 364.37024, 364.71454, 364.71832, 364.5231 , 363.78375,\n",
       "       363.89694, 363.5834 , 363.553  , 364.49808, 363.83426, 363.16986,\n",
       "       362.9663 , 364.96964, 365.76923, 366.92258, 362.12903, 360.83807,\n",
       "       360.21146, 360.10986, 359.84467, 359.74487, 359.49988, 358.6577 ,\n",
       "       362.79156, 362.0375 , 365.47757, 362.38333, 361.9311 , 361.79465,\n",
       "       359.1035 , 361.09006, 361.42343, 359.88803, 361.2594 , 363.49277,\n",
       "       361.04236, 360.99753, 360.92743, 361.10913, 362.48157, 362.9197 ,\n",
       "       362.31015, 360.38095, 362.05286, 365.85507, 365.39288, 363.51218,\n",
       "       359.43698, 358.6737 , 361.82736, 359.70294, 360.56705, 360.6335 ,\n",
       "       360.96878, 359.38785, 357.96497, 358.08414, 359.6998 , 358.8386 ,\n",
       "       359.10983, 358.2743 , 357.8809 , 360.79706, 359.14743, 358.4332 ,\n",
       "       358.07166, 357.07434, 357.7385 , 356.99625, 357.0205 , 357.02908,\n",
       "       356.46423, 356.58075], dtype=float32)"
      ]
     },
     "execution_count": 10,
     "metadata": {},
     "output_type": "execute_result"
    }
   ],
   "source": [
    "cdf['Proton_V_nonlin'][:]"
   ]
  },
  {
   "cell_type": "code",
   "execution_count": 16,
   "id": "5e0ffbd8",
   "metadata": {},
   "outputs": [
    {
     "data": {
      "text/plain": [
       "0"
      ]
     },
     "execution_count": 16,
     "metadata": {},
     "output_type": "execute_result"
    }
   ],
   "source": [
    "sum(cdf['Proton_V_moment'][:] - cdf['Proton_V_nonlin'] > 20)"
   ]
  },
  {
   "cell_type": "code",
   "execution_count": 19,
   "id": "f8854f8f",
   "metadata": {},
   "outputs": [],
   "source": [
    "velocity = (cdf['Proton_V_moment'][:] + cdf['Proton_V_nonlin'])/2"
   ]
  },
  {
   "cell_type": "code",
   "execution_count": 21,
   "id": "5636fb01",
   "metadata": {},
   "outputs": [],
   "source": [
    "splits = [i*int(len(velocity)/24) for i in range(25)]"
   ]
  },
  {
   "cell_type": "code",
   "execution_count": 22,
   "id": "67d0779f",
   "metadata": {},
   "outputs": [],
   "source": [
    "#split a day's data into 24 data points\n",
    "data = []\n",
    "for i in range(len(splits)-1):\n",
    "    avg = sum(velocity[splits[i]:splits[i+1]])/(splits[i+1]-splits[i])\n",
    "    data.append(avg)"
   ]
  },
  {
   "cell_type": "code",
   "execution_count": 23,
   "id": "6e1ce1ba",
   "metadata": {},
   "outputs": [
    {
     "data": {
      "text/plain": [
       "24"
      ]
     },
     "execution_count": 23,
     "metadata": {},
     "output_type": "execute_result"
    }
   ],
   "source": [
    "len(data)"
   ]
  },
  {
   "cell_type": "code",
   "execution_count": 24,
   "id": "b4300188",
   "metadata": {},
   "outputs": [],
   "source": [
    "windspeed_data = []"
   ]
  },
  {
   "cell_type": "code",
   "execution_count": 25,
   "id": "1836363b",
   "metadata": {},
   "outputs": [],
   "source": [
    "from tqdm import tqdm"
   ]
  },
  {
   "cell_type": "code",
   "execution_count": 27,
   "id": "1de40d28",
   "metadata": {},
   "outputs": [
    {
     "name": "stderr",
     "output_type": "stream",
     "text": [
      "100%|████████████████████████████████████████████████████████████████████████████████| 364/364 [01:51<00:00,  3.28it/s]\n"
     ]
    }
   ],
   "source": [
    "for file in tqdm(os.listdir(r'C:\\Users\\shres\\OneDrive\\Desktop\\windspeed')):\n",
    "    cdf = pycdf.CDF(file)\n",
    "    velocity = (cdf['Proton_V_moment'][:] + cdf['Proton_V_nonlin'])/2\n",
    "    splits = [i*int(len(velocity)/24) for i in range(25)]\n",
    "    for i in range(len(splits)-1):\n",
    "        avg = sum(velocity[splits[i]:splits[i+1]])/(splits[i+1]-splits[i])\n",
    "        windspeed_data.append(avg)"
   ]
  },
  {
   "cell_type": "code",
   "execution_count": 28,
   "id": "6cc01eb3",
   "metadata": {},
   "outputs": [
    {
     "data": {
      "text/plain": [
       "8736"
      ]
     },
     "execution_count": 28,
     "metadata": {},
     "output_type": "execute_result"
    }
   ],
   "source": [
    "len(windspeed_data)"
   ]
  },
  {
   "cell_type": "code",
   "execution_count": 29,
   "id": "fbcaee4f",
   "metadata": {},
   "outputs": [
    {
     "data": {
      "text/plain": [
       "8736"
      ]
     },
     "execution_count": 29,
     "metadata": {},
     "output_type": "execute_result"
    }
   ],
   "source": [
    "24*364"
   ]
  },
  {
   "cell_type": "code",
   "execution_count": 30,
   "id": "e9be871b",
   "metadata": {},
   "outputs": [],
   "source": [
    "import matplotlib.pyplot as plt"
   ]
  },
  {
   "cell_type": "code",
   "execution_count": 31,
   "id": "16d5824a",
   "metadata": {},
   "outputs": [
    {
     "data": {
      "text/plain": [
       "[<matplotlib.lines.Line2D at 0x19e28c3c610>]"
      ]
     },
     "execution_count": 31,
     "metadata": {},
     "output_type": "execute_result"
    },
    {
     "data": {
      "image/png": "[encoded data removed]",
      "text/plain": [
       "<Figure size 432x288 with 1 Axes>"
      ]
     },
     "metadata": {
      "needs_background": "light"
     },
     "output_type": "display_data"
    }
   ],
   "source": [
    "plt.rcParams[\"figure.figsize\"] = (20,10)\n",
    "plt.plot(windspeed_data)"
   ]
  },
  {
   "cell_type": "code",
   "execution_count": 32,
   "id": "241d785c",
   "metadata": {},
   "outputs": [],
   "source": [
    "import scipy"
   ]
  },
  {
   "cell_type": "code",
   "execution_count": 33,
   "id": "e863beda",
   "metadata": {},
   "outputs": [
    {
     "name": "stderr",
     "output_type": "stream",
     "text": [
      "C:\\Users\\shres\\AppData\\Local\\Temp\\ipykernel_10752\\430340977.py:1: FutureWarning: Unlike other reduction functions (e.g. `skew`, `kurtosis`), the default behavior of `mode` typically preserves the axis it acts along. In SciPy 1.11.0, this behavior will change: the default value of `keepdims` will become False, the `axis` over which the statistic is taken will be eliminated, and the value None will no longer be accepted. Set `keepdims` to True or False to avoid this warning.\n",
      "  scipy.stats.mode(windspeed_data)\n"
     ]
    },
    {
     "data": {
      "text/plain": [
       "ModeResult(mode=array([267.34737592]), count=array([1]))"
      ]
     },
     "execution_count": 33,
     "metadata": {},
     "output_type": "execute_result"
    }
   ],
   "source": [
    "scipy.stats.mode(windspeed_data)"
   ]
  },
  {
   "cell_type": "code",
   "execution_count": 34,
   "id": "27725d59",
   "metadata": {},
   "outputs": [],
   "source": [
    "import numpy as np"
   ]
  },
  {
   "cell_type": "code",
   "execution_count": 35,
   "id": "42e9dd82",
   "metadata": {},
   "outputs": [],
   "source": [
    "windspeed_data = np.array(windspeed_data, dtype='float32')"
   ]
  },
  {
   "cell_type": "code",
   "execution_count": 36,
   "id": "0b3c3acb",
   "metadata": {},
   "outputs": [],
   "source": [
    "data = pd.DataFrame(windspeed_data, columns=['ProtonSpeed (km/s)'])"
   ]
  },
  {
   "cell_type": "code",
   "execution_count": 37,
   "id": "e1ebbaec",
   "metadata": {},
   "outputs": [],
   "source": [
    "data.to_csv(r'C:\\Users\\shres\\protonspeed.csv', index=False)"
   ]
  },
  {
   "cell_type": "code",
   "execution_count": 38,
   "id": "63be05ce",
   "metadata": {},
   "outputs": [
    {
     "data": {
      "text/html": [
       "<div>\n",
       "<style scoped>\n",
       "    .dataframe tbody tr th:only-of-type {\n",
       "        vertical-align: middle;\n",
       "    }\n",
       "\n",
       "    .dataframe tbody tr th {\n",
       "        vertical-align: top;\n",
       "    }\n",
       "\n",
       "    .dataframe thead th {\n",
       "        text-align: right;\n",
       "    }\n",
       "</style>\n",
       "<table border=\"1\" class=\"dataframe\">\n",
       "  <thead>\n",
       "    <tr style=\"text-align: right;\">\n",
       "      <th></th>\n",
       "      <th>ProtonSpeed (km/s)</th>\n",
       "    </tr>\n",
       "  </thead>\n",
       "  <tbody>\n",
       "    <tr>\n",
       "      <th>count</th>\n",
       "      <td>8736.000000</td>\n",
       "    </tr>\n",
       "    <tr>\n",
       "      <th>mean</th>\n",
       "      <td>685.234985</td>\n",
       "    </tr>\n",
       "    <tr>\n",
       "      <th>std</th>\n",
       "      <td>2313.286377</td>\n",
       "    </tr>\n",
       "    <tr>\n",
       "      <th>min</th>\n",
       "      <td>267.347382</td>\n",
       "    </tr>\n",
       "    <tr>\n",
       "      <th>25%</th>\n",
       "      <td>345.360657</td>\n",
       "    </tr>\n",
       "    <tr>\n",
       "      <th>50%</th>\n",
       "      <td>396.166748</td>\n",
       "    </tr>\n",
       "    <tr>\n",
       "      <th>75%</th>\n",
       "      <td>453.953766</td>\n",
       "    </tr>\n",
       "    <tr>\n",
       "      <th>max</th>\n",
       "      <td>44598.128906</td>\n",
       "    </tr>\n",
       "  </tbody>\n",
       "</table>\n",
       "</div>"
      ],
      "text/plain": [
       "       ProtonSpeed (km/s)\n",
       "count         8736.000000\n",
       "mean           685.234985\n",
       "std           2313.286377\n",
       "min            267.347382\n",
       "25%            345.360657\n",
       "50%            396.166748\n",
       "75%            453.953766\n",
       "max          44598.128906"
      ]
     },
     "execution_count": 38,
     "metadata": {},
     "output_type": "execute_result"
    }
   ],
   "source": [
    "data.describe()"
   ]
  },
  {
   "cell_type": "code",
   "execution_count": 40,
   "id": "f8219c07",
   "metadata": {},
   "outputs": [
    {
     "data": {
      "text/plain": [
       "260"
      ]
     },
     "execution_count": 40,
     "metadata": {},
     "output_type": "execute_result"
    }
   ],
   "source": [
    "sum(windspeed_data > 1000)"
   ]
  },
  {
   "cell_type": "code",
   "execution_count": null,
   "id": "93543d2d",
   "metadata": {},
   "outputs": [],
   "source": []
  }
 ],
 "metadata": {
  "kernelspec": {
   "display_name": "Python 3 (ipykernel)",
   "language": "python",
   "name": "python3"
  },
  "language_info": {
   "codemirror_mode": {
    "name": "ipython",
    "version": 3
   },
   "file_extension": ".py",
   "mimetype": "text/x-python",
   "name": "python",
   "nbconvert_exporter": "python",
   "pygments_lexer": "ipython3",
   "version": "3.10.5"
  }
 },
 "nbformat": 4,
 "nbformat_minor": 5
}
