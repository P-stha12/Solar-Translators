{
  "cells": [
    {
      "cell_type": "code",
      "execution_count": 1,
      "metadata": {
        "colab": {
          "base_uri": "https://localhost:8080/"
        },
        "id": "rCTjCPlGCtBK",
        "outputId": "c8dcecbd-b7af-49fc-f2e2-b78cc3d21b32"
      },
      "outputs": [
        {
          "output_type": "stream",
          "name": "stdout",
          "text": [
            "Downloading...\n",
            "From: https://drive.google.com/uc?id=18eSV0_cyNXxGrHC1PqLczZLVgmqF6Ipg\n",
            "To: /content/protonspeed.csv\n",
            "100% 92.9k/92.9k [00:00<00:00, 70.2MB/s]\n",
            "Downloading...\n",
            "From: https://drive.google.com/uc?id=14ia73lmckmrb_Ag_rC5ZaTr7EnfyB1zR\n",
            "To: /content/field.csv\n",
            "100% 74.3k/74.3k [00:00<00:00, 81.2MB/s]\n"
          ]
        }
      ],
      "source": [
        "!gdown 18eSV0_cyNXxGrHC1PqLczZLVgmqF6Ipg\n",
        "!gdown 14ia73lmckmrb_Ag_rC5ZaTr7EnfyB1zR"
      ]
    },
    {
      "cell_type": "code",
      "execution_count": 2,
      "metadata": {
        "id": "kcQBjmK3Cv5g"
      },
      "outputs": [],
      "source": [
        "import pandas as pd\n",
        "import numpy as np\n",
        "import tensorflow as tf"
      ]
    },
    {
      "cell_type": "code",
      "execution_count": 3,
      "metadata": {
        "id": "SKsA93CnCxSi"
      },
      "outputs": [],
      "source": [
        "speed = pd.read_csv('protonspeed.csv')\n",
        "field = pd.read_csv('field.csv')"
      ]
    },
    {
      "cell_type": "code",
      "execution_count": 4,
      "metadata": {
        "id": "kgWThKSTCy9J"
      },
      "outputs": [],
      "source": [
        "sp = np.array(speed['ProtonSpeed (km/s)'])\n",
        "fld = np.array(field['Field (nT)'])\n",
        "sp = sp[:len(fld)]"
      ]
    },
    {
      "cell_type": "code",
      "execution_count": 5,
      "metadata": {
        "id": "Dj3ONDXAC3OH"
      },
      "outputs": [],
      "source": [
        "for i in range(len(sp)):\n",
        "  if sp[i] > 1000:\n",
        "    sp[i] = 1000"
      ]
    },
    {
      "cell_type": "code",
      "execution_count": 6,
      "metadata": {
        "id": "WQTCkYgAC5J0"
      },
      "outputs": [],
      "source": [
        "time_step = [i for i in range(len(sp))]"
      ]
    },
    {
      "cell_type": "code",
      "execution_count": 7,
      "metadata": {
        "id": "thHw7EopC7dT"
      },
      "outputs": [],
      "source": [
        "split_time = 6500\n",
        "\n",
        "# Get the train set \n",
        "time_train = time_step[:split_time]\n",
        "sp_train = sp[:split_time]\n",
        "fld_train = sp[:split_time]\n",
        "\n",
        "# Get the validation set\n",
        "time_valid = time_step[split_time:]\n",
        "sp_valid = sp[split_time:]\n",
        "fld_valid = fld[split_time:]"
      ]
    },
    {
      "cell_type": "code",
      "execution_count": 8,
      "metadata": {
        "id": "wuMZ9amuC9sw"
      },
      "outputs": [],
      "source": [
        "df_train = pd.DataFrame(columns=['speed', 'field'])"
      ]
    },
    {
      "cell_type": "code",
      "execution_count": 9,
      "metadata": {
        "id": "FnlLPHT1C_qq"
      },
      "outputs": [],
      "source": [
        "df_train['speed'] = sp_train\n",
        "df_train['field'] = fld_train"
      ]
    },
    {
      "cell_type": "code",
      "execution_count": 10,
      "metadata": {
        "id": "m-H2XeM4DBe2"
      },
      "outputs": [],
      "source": [
        "from sklearn.preprocessing import MinMaxScaler"
      ]
    },
    {
      "cell_type": "code",
      "execution_count": 11,
      "metadata": {
        "id": "57A07d44DDVy"
      },
      "outputs": [],
      "source": [
        "scaler = MinMaxScaler()\n",
        "data_scaled = scaler.fit_transform(df_train) "
      ]
    },
    {
      "cell_type": "code",
      "execution_count": 12,
      "metadata": {
        "id": "X8uiLKfpDEwv"
      },
      "outputs": [],
      "source": [
        "from keras.preprocessing.sequence import TimeseriesGenerator"
      ]
    },
    {
      "cell_type": "code",
      "execution_count": 13,
      "metadata": {
        "id": "1_hykwA6DGXG"
      },
      "outputs": [],
      "source": [
        "feature = data_scaled[:,1]\n",
        "target = data_scaled[:,0]"
      ]
    },
    {
      "cell_type": "code",
      "execution_count": 38,
      "metadata": {
        "id": "rscLoHVPDJgl"
      },
      "outputs": [],
      "source": [
        "win_length = 24\n",
        "batch_size = 120\n",
        "num_features = 1\n",
        "train_generator = TimeseriesGenerator(feature, target, length=win_length, sampling_rate=1, batch_size=batch_size)"
      ]
    },
    {
      "cell_type": "code",
      "execution_count": 39,
      "metadata": {
        "colab": {
          "base_uri": "https://localhost:8080/"
        },
        "id": "YmuIXCpiDM6l",
        "outputId": "471f2d90-3846-4961-ebc8-6a014bcb3b4d"
      },
      "outputs": [
        {
          "output_type": "stream",
          "name": "stdout",
          "text": [
            "Model: \"sequential\"\n",
            "_________________________________________________________________\n",
            " Layer (type)                Output Shape              Param #   \n",
            "=================================================================\n",
            " conv1d (Conv1D)             (None, 24, 64)            256       \n",
            "                                                                 \n",
            " lstm (LSTM)                 (None, 24, 128)           98816     \n",
            "                                                                 \n",
            " lstm_1 (LSTM)               (None, 128)               131584    \n",
            "                                                                 \n",
            " dense (Dense)               (None, 80)                10320     \n",
            "                                                                 \n",
            " dense_1 (Dense)             (None, 20)                1620      \n",
            "                                                                 \n",
            " dense_2 (Dense)             (None, 1)                 21        \n",
            "                                                                 \n",
            "=================================================================\n",
            "Total params: 242,617\n",
            "Trainable params: 242,617\n",
            "Non-trainable params: 0\n",
            "_________________________________________________________________\n"
          ]
        }
      ],
      "source": [
        "model = tf.keras.models.Sequential([\n",
        "  tf.keras.layers.Conv1D(filters=64, kernel_size=3,\n",
        "                      strides=1,\n",
        "                      activation=\"relu\",\n",
        "                      padding='causal',\n",
        "                      input_shape=[win_length, num_features]),\n",
        "  tf.keras.layers.LSTM(128, return_sequences=True),\n",
        "  tf.keras.layers.LSTM(128),\n",
        "  tf.keras.layers.Dense(80, activation=\"relu\"),\n",
        "  tf.keras.layers.Dense(20, activation=\"relu\"),\n",
        "  tf.keras.layers.Dense(1),\n",
        "])\n",
        "Wsave = model.get_weights()\n",
        " # Print the model summary \n",
        "model.summary()"
      ]
    },
    {
      "cell_type": "code",
      "execution_count": 40,
      "metadata": {
        "colab": {
          "base_uri": "https://localhost:8080/"
        },
        "id": "eocwV1kTDO7Q",
        "outputId": "58a360aa-be6d-4acd-d9ee-832005667dc1"
      },
      "outputs": [
        {
          "output_type": "stream",
          "name": "stdout",
          "text": [
            "Epoch 1/100\n",
            "54/54 [==============================] - 3s 10ms/step - loss: 0.0446 - lr: 1.0000e-08\n",
            "Epoch 2/100\n",
            "54/54 [==============================] - 0s 9ms/step - loss: 0.0446 - lr: 1.1220e-08\n",
            "Epoch 3/100\n",
            "54/54 [==============================] - 0s 9ms/step - loss: 0.0445 - lr: 1.2589e-08\n",
            "Epoch 4/100\n",
            "54/54 [==============================] - 0s 9ms/step - loss: 0.0445 - lr: 1.4125e-08\n",
            "Epoch 5/100\n",
            "54/54 [==============================] - 1s 9ms/step - loss: 0.0445 - lr: 1.5849e-08\n",
            "Epoch 6/100\n",
            "54/54 [==============================] - 0s 9ms/step - loss: 0.0445 - lr: 1.7783e-08\n",
            "Epoch 7/100\n",
            "54/54 [==============================] - 0s 9ms/step - loss: 0.0445 - lr: 1.9953e-08\n",
            "Epoch 8/100\n",
            "54/54 [==============================] - 0s 9ms/step - loss: 0.0445 - lr: 2.2387e-08\n",
            "Epoch 9/100\n",
            "54/54 [==============================] - 0s 9ms/step - loss: 0.0445 - lr: 2.5119e-08\n",
            "Epoch 10/100\n",
            "54/54 [==============================] - 0s 8ms/step - loss: 0.0445 - lr: 2.8184e-08\n",
            "Epoch 11/100\n",
            "54/54 [==============================] - 0s 8ms/step - loss: 0.0445 - lr: 3.1623e-08\n",
            "Epoch 12/100\n",
            "54/54 [==============================] - 0s 9ms/step - loss: 0.0445 - lr: 3.5481e-08\n",
            "Epoch 13/100\n",
            "54/54 [==============================] - 0s 8ms/step - loss: 0.0445 - lr: 3.9811e-08\n",
            "Epoch 14/100\n",
            "54/54 [==============================] - 0s 9ms/step - loss: 0.0445 - lr: 4.4668e-08\n",
            "Epoch 15/100\n",
            "54/54 [==============================] - 0s 9ms/step - loss: 0.0445 - lr: 5.0119e-08\n",
            "Epoch 16/100\n",
            "54/54 [==============================] - 0s 9ms/step - loss: 0.0445 - lr: 5.6234e-08\n",
            "Epoch 17/100\n",
            "54/54 [==============================] - 0s 9ms/step - loss: 0.0445 - lr: 6.3096e-08\n",
            "Epoch 18/100\n",
            "54/54 [==============================] - 0s 9ms/step - loss: 0.0445 - lr: 7.0795e-08\n",
            "Epoch 19/100\n",
            "54/54 [==============================] - 0s 9ms/step - loss: 0.0444 - lr: 7.9433e-08\n",
            "Epoch 20/100\n",
            "54/54 [==============================] - 0s 9ms/step - loss: 0.0444 - lr: 8.9125e-08\n",
            "Epoch 21/100\n",
            "54/54 [==============================] - 0s 9ms/step - loss: 0.0444 - lr: 1.0000e-07\n",
            "Epoch 22/100\n",
            "54/54 [==============================] - 0s 9ms/step - loss: 0.0444 - lr: 1.1220e-07\n",
            "Epoch 23/100\n",
            "54/54 [==============================] - 0s 9ms/step - loss: 0.0444 - lr: 1.2589e-07\n",
            "Epoch 24/100\n",
            "54/54 [==============================] - 0s 9ms/step - loss: 0.0444 - lr: 1.4125e-07\n",
            "Epoch 25/100\n",
            "54/54 [==============================] - 0s 9ms/step - loss: 0.0443 - lr: 1.5849e-07\n",
            "Epoch 26/100\n",
            "54/54 [==============================] - 0s 9ms/step - loss: 0.0443 - lr: 1.7783e-07\n",
            "Epoch 27/100\n",
            "54/54 [==============================] - 0s 9ms/step - loss: 0.0443 - lr: 1.9953e-07\n",
            "Epoch 28/100\n",
            "54/54 [==============================] - 0s 9ms/step - loss: 0.0442 - lr: 2.2387e-07\n",
            "Epoch 29/100\n",
            "54/54 [==============================] - 0s 9ms/step - loss: 0.0442 - lr: 2.5119e-07\n",
            "Epoch 30/100\n",
            "54/54 [==============================] - 0s 9ms/step - loss: 0.0442 - lr: 2.8184e-07\n",
            "Epoch 31/100\n",
            "54/54 [==============================] - 0s 9ms/step - loss: 0.0441 - lr: 3.1623e-07\n",
            "Epoch 32/100\n",
            "54/54 [==============================] - 0s 8ms/step - loss: 0.0441 - lr: 3.5481e-07\n",
            "Epoch 33/100\n",
            "54/54 [==============================] - 0s 9ms/step - loss: 0.0440 - lr: 3.9811e-07\n",
            "Epoch 34/100\n",
            "54/54 [==============================] - 0s 9ms/step - loss: 0.0440 - lr: 4.4668e-07\n",
            "Epoch 35/100\n",
            "54/54 [==============================] - 0s 9ms/step - loss: 0.0439 - lr: 5.0119e-07\n",
            "Epoch 36/100\n",
            "54/54 [==============================] - 0s 9ms/step - loss: 0.0438 - lr: 5.6234e-07\n",
            "Epoch 37/100\n",
            "54/54 [==============================] - 0s 9ms/step - loss: 0.0437 - lr: 6.3096e-07\n",
            "Epoch 38/100\n",
            "54/54 [==============================] - 0s 9ms/step - loss: 0.0436 - lr: 7.0795e-07\n",
            "Epoch 39/100\n",
            "54/54 [==============================] - 0s 9ms/step - loss: 0.0436 - lr: 7.9433e-07\n",
            "Epoch 40/100\n",
            "54/54 [==============================] - 0s 9ms/step - loss: 0.0434 - lr: 8.9125e-07\n",
            "Epoch 41/100\n",
            "54/54 [==============================] - 0s 9ms/step - loss: 0.0433 - lr: 1.0000e-06\n",
            "Epoch 42/100\n",
            "54/54 [==============================] - 0s 8ms/step - loss: 0.0432 - lr: 1.1220e-06\n",
            "Epoch 43/100\n",
            "54/54 [==============================] - 0s 9ms/step - loss: 0.0431 - lr: 1.2589e-06\n",
            "Epoch 44/100\n",
            "54/54 [==============================] - 0s 9ms/step - loss: 0.0429 - lr: 1.4125e-06\n",
            "Epoch 45/100\n",
            "54/54 [==============================] - 0s 9ms/step - loss: 0.0427 - lr: 1.5849e-06\n",
            "Epoch 46/100\n",
            "54/54 [==============================] - 0s 9ms/step - loss: 0.0426 - lr: 1.7783e-06\n",
            "Epoch 47/100\n",
            "54/54 [==============================] - 0s 9ms/step - loss: 0.0423 - lr: 1.9953e-06\n",
            "Epoch 48/100\n",
            "54/54 [==============================] - 1s 9ms/step - loss: 0.0421 - lr: 2.2387e-06\n",
            "Epoch 49/100\n",
            "54/54 [==============================] - 0s 9ms/step - loss: 0.0419 - lr: 2.5119e-06\n",
            "Epoch 50/100\n",
            "54/54 [==============================] - 0s 9ms/step - loss: 0.0416 - lr: 2.8184e-06\n",
            "Epoch 51/100\n",
            "54/54 [==============================] - 0s 9ms/step - loss: 0.0413 - lr: 3.1623e-06\n",
            "Epoch 52/100\n",
            "54/54 [==============================] - 0s 9ms/step - loss: 0.0410 - lr: 3.5481e-06\n",
            "Epoch 53/100\n",
            "54/54 [==============================] - 0s 8ms/step - loss: 0.0406 - lr: 3.9811e-06\n",
            "Epoch 54/100\n",
            "54/54 [==============================] - 0s 9ms/step - loss: 0.0403 - lr: 4.4668e-06\n",
            "Epoch 55/100\n",
            "54/54 [==============================] - 0s 9ms/step - loss: 0.0399 - lr: 5.0119e-06\n",
            "Epoch 56/100\n",
            "54/54 [==============================] - 0s 9ms/step - loss: 0.0394 - lr: 5.6234e-06\n",
            "Epoch 57/100\n",
            "54/54 [==============================] - 0s 9ms/step - loss: 0.0390 - lr: 6.3096e-06\n",
            "Epoch 58/100\n",
            "54/54 [==============================] - 0s 9ms/step - loss: 0.0385 - lr: 7.0795e-06\n",
            "Epoch 59/100\n",
            "54/54 [==============================] - 0s 9ms/step - loss: 0.0380 - lr: 7.9433e-06\n",
            "Epoch 60/100\n",
            "54/54 [==============================] - 0s 9ms/step - loss: 0.0375 - lr: 8.9125e-06\n",
            "Epoch 61/100\n",
            "54/54 [==============================] - 0s 9ms/step - loss: 0.0369 - lr: 1.0000e-05\n",
            "Epoch 62/100\n",
            "54/54 [==============================] - 0s 9ms/step - loss: 0.0363 - lr: 1.1220e-05\n",
            "Epoch 63/100\n",
            "54/54 [==============================] - 0s 9ms/step - loss: 0.0356 - lr: 1.2589e-05\n",
            "Epoch 64/100\n",
            "54/54 [==============================] - 0s 9ms/step - loss: 0.0349 - lr: 1.4125e-05\n",
            "Epoch 65/100\n",
            "54/54 [==============================] - 0s 9ms/step - loss: 0.0342 - lr: 1.5849e-05\n",
            "Epoch 66/100\n",
            "54/54 [==============================] - 0s 9ms/step - loss: 0.0334 - lr: 1.7783e-05\n",
            "Epoch 67/100\n",
            "54/54 [==============================] - 0s 9ms/step - loss: 0.0326 - lr: 1.9953e-05\n",
            "Epoch 68/100\n",
            "54/54 [==============================] - 0s 9ms/step - loss: 0.0317 - lr: 2.2387e-05\n",
            "Epoch 69/100\n",
            "54/54 [==============================] - 1s 9ms/step - loss: 0.0308 - lr: 2.5119e-05\n",
            "Epoch 70/100\n",
            "54/54 [==============================] - 0s 9ms/step - loss: 0.0298 - lr: 2.8184e-05\n",
            "Epoch 71/100\n",
            "54/54 [==============================] - 0s 9ms/step - loss: 0.0288 - lr: 3.1623e-05\n",
            "Epoch 72/100\n",
            "54/54 [==============================] - 0s 9ms/step - loss: 0.0278 - lr: 3.5481e-05\n",
            "Epoch 73/100\n",
            "54/54 [==============================] - 0s 9ms/step - loss: 0.0268 - lr: 3.9811e-05\n",
            "Epoch 74/100\n",
            "54/54 [==============================] - 0s 9ms/step - loss: 0.0257 - lr: 4.4668e-05\n",
            "Epoch 75/100\n",
            "54/54 [==============================] - 0s 9ms/step - loss: 0.0246 - lr: 5.0119e-05\n",
            "Epoch 76/100\n",
            "54/54 [==============================] - 0s 9ms/step - loss: 0.0235 - lr: 5.6234e-05\n",
            "Epoch 77/100\n",
            "54/54 [==============================] - 0s 9ms/step - loss: 0.0225 - lr: 6.3096e-05\n",
            "Epoch 78/100\n",
            "54/54 [==============================] - 0s 9ms/step - loss: 0.0214 - lr: 7.0795e-05\n",
            "Epoch 79/100\n",
            "54/54 [==============================] - 0s 9ms/step - loss: 0.0204 - lr: 7.9433e-05\n",
            "Epoch 80/100\n",
            "54/54 [==============================] - 0s 9ms/step - loss: 0.0195 - lr: 8.9125e-05\n",
            "Epoch 81/100\n",
            "54/54 [==============================] - 0s 9ms/step - loss: 0.0186 - lr: 1.0000e-04\n",
            "Epoch 82/100\n",
            "54/54 [==============================] - 0s 9ms/step - loss: 0.0179 - lr: 1.1220e-04\n",
            "Epoch 83/100\n",
            "54/54 [==============================] - 0s 9ms/step - loss: 0.0172 - lr: 1.2589e-04\n",
            "Epoch 84/100\n",
            "54/54 [==============================] - 0s 9ms/step - loss: 0.0166 - lr: 1.4125e-04\n",
            "Epoch 85/100\n",
            "54/54 [==============================] - 0s 9ms/step - loss: 0.0162 - lr: 1.5849e-04\n",
            "Epoch 86/100\n",
            "54/54 [==============================] - 0s 8ms/step - loss: 0.0158 - lr: 1.7783e-04\n",
            "Epoch 87/100\n",
            "54/54 [==============================] - 1s 9ms/step - loss: 0.0155 - lr: 1.9953e-04\n",
            "Epoch 88/100\n",
            "54/54 [==============================] - 0s 9ms/step - loss: 0.0152 - lr: 2.2387e-04\n",
            "Epoch 89/100\n",
            "54/54 [==============================] - 0s 9ms/step - loss: 0.0150 - lr: 2.5119e-04\n",
            "Epoch 90/100\n",
            "54/54 [==============================] - 0s 9ms/step - loss: 0.0149 - lr: 2.8184e-04\n",
            "Epoch 91/100\n",
            "54/54 [==============================] - 0s 9ms/step - loss: 0.0148 - lr: 3.1623e-04\n",
            "Epoch 92/100\n",
            "54/54 [==============================] - 0s 9ms/step - loss: 0.0146 - lr: 3.5481e-04\n",
            "Epoch 93/100\n",
            "54/54 [==============================] - 0s 9ms/step - loss: 0.0145 - lr: 3.9811e-04\n",
            "Epoch 94/100\n",
            "54/54 [==============================] - 0s 9ms/step - loss: 0.0144 - lr: 4.4668e-04\n",
            "Epoch 95/100\n",
            "54/54 [==============================] - 1s 9ms/step - loss: 0.0143 - lr: 5.0119e-04\n",
            "Epoch 96/100\n",
            "54/54 [==============================] - 0s 9ms/step - loss: 0.0142 - lr: 5.6234e-04\n",
            "Epoch 97/100\n",
            "54/54 [==============================] - 0s 9ms/step - loss: 0.0141 - lr: 6.3096e-04\n",
            "Epoch 98/100\n",
            "54/54 [==============================] - 0s 9ms/step - loss: 0.0140 - lr: 7.0795e-04\n",
            "Epoch 99/100\n",
            "54/54 [==============================] - 0s 9ms/step - loss: 0.0138 - lr: 7.9433e-04\n",
            "Epoch 100/100\n",
            "54/54 [==============================] - 0s 9ms/step - loss: 0.0137 - lr: 8.9125e-04\n"
          ]
        }
      ],
      "source": [
        "lr_schedule = tf.keras.callbacks.LearningRateScheduler(\n",
        "    lambda epoch: 1e-8 * 10**(epoch / 20))\n",
        "\n",
        "# Initialize the optimizer\n",
        "optimizer = tf.keras.optimizers.SGD(momentum=0.9)\n",
        "\n",
        "# Set the training parameters\n",
        "model.compile(loss=tf.keras.losses.Huber(), optimizer=optimizer)\n",
        "\n",
        "# Train the model\n",
        "history = model.fit(train_generator, epochs=100, callbacks=[lr_schedule])"
      ]
    },
    {
      "cell_type": "code",
      "execution_count": 41,
      "metadata": {
        "colab": {
          "base_uri": "https://localhost:8080/",
          "height": 405
        },
        "id": "Min6kvoVDR6V",
        "outputId": "d2c11727-614a-488d-e1a4-71acbc72ae15"
      },
      "outputs": [
        {
          "output_type": "execute_result",
          "data": {
            "text/plain": [
              "(1e-08, 0.001, 0.0, 1.0)"
            ]
          },
          "metadata": {},
          "execution_count": 41
        },
        {
          "output_type": "display_data",
          "data": {
            "text/plain": [
              "<Figure size 720x432 with 1 Axes>"
            ],
            "image/png": "[encoded data removed]"
          },
          "metadata": {
            "needs_background": "light"
          }
        }
      ],
      "source": [
        "import matplotlib.pyplot as plt\n",
        "\n",
        "lrs = 1e-8 * (10 ** (np.arange(100) / 20))\n",
        "\n",
        "# Set the figure size\n",
        "plt.figure(figsize=(10, 6))\n",
        "\n",
        "# Set the grid\n",
        "plt.grid(True)\n",
        "\n",
        "# Plot the loss in log scale\n",
        "plt.semilogx(lrs, history.history[\"loss\"])\n",
        "\n",
        "# Increase the tickmarks size\n",
        "plt.tick_params('both', length=10, width=1, which='both')\n",
        "\n",
        "# Set the plot boundaries\n",
        "plt.axis([1e-8, 1e-3, 0, 1])"
      ]
    },
    {
      "cell_type": "code",
      "execution_count": 42,
      "metadata": {
        "id": "xKmKIHJkDWa8"
      },
      "outputs": [],
      "source": [
        "def plot_series(x, y, format=\"-\", start=0, end=None, \n",
        "                title=None, xlabel=None, ylabel=None, legend=None ):\n",
        "    \"\"\"\n",
        "    Visualizes time series data\n",
        "\n",
        "    Args:\n",
        "      x (array of int) - contains values for the x-axis\n",
        "      y (array of int or tuple of arrays) - contains the values for the y-axis\n",
        "      format (string) - line style when plotting the graph\n",
        "      start (int) - first time step to plot\n",
        "      end (int) - last time step to plot\n",
        "      title (string) - title of the plot\n",
        "      xlabel (string) - label for the x-axis\n",
        "      ylabel (string) - label for the y-axis\n",
        "      legend (list of strings) - legend for the plot\n",
        "    \"\"\"\n",
        "\n",
        "    # Setup dimensions of the graph figure\n",
        "    plt.figure(figsize=(10, 6))\n",
        "    \n",
        "    # Check if there are more than two series to plot\n",
        "    if type(y) is tuple:\n",
        "\n",
        "      # Loop over the y elements\n",
        "      for y_curr in y:\n",
        "\n",
        "        # Plot the x and current y values\n",
        "        plt.plot(x[start:end], y_curr[start:end], format)\n",
        "\n",
        "    else:\n",
        "      # Plot the x and y values\n",
        "      plt.plot(x[start:end], y[start:end], format)\n",
        "\n",
        "    # Label the x-axis\n",
        "    plt.xlabel(xlabel)\n",
        "\n",
        "    # Label the y-axis\n",
        "    plt.ylabel(ylabel)\n",
        "\n",
        "    # Set the legend\n",
        "    if legend:\n",
        "      plt.legend(legend)\n",
        "\n",
        "    # Set the title\n",
        "    plt.title(title)\n",
        "\n",
        "    # Overlay a grid on the graph\n",
        "    plt.grid(True)\n",
        "\n",
        "    # Draw the graph on screen\n",
        "    plt.show()"
      ]
    },
    {
      "cell_type": "code",
      "execution_count": 43,
      "metadata": {
        "id": "69E29CD5DYUe"
      },
      "outputs": [],
      "source": [
        "tf.keras.backend.clear_session()\n",
        "model.set_weights(Wsave)\n",
        "\n",
        "learning_rate = 8.9125e-04\n",
        "\n",
        "# Set the optimizer \n",
        "optimizer = tf.keras.optimizers.SGD(learning_rate=learning_rate, momentum=0.9)\n",
        "\n",
        "# Set the training parameters\n",
        "model.compile(loss=tf.keras.losses.Huber(),\n",
        "              optimizer=optimizer,\n",
        "              metrics=[\"mae\"])"
      ]
    },
    {
      "cell_type": "code",
      "execution_count": 44,
      "metadata": {
        "id": "mr6ytfI9FP0O"
      },
      "outputs": [],
      "source": [
        "from keras.callbacks import EarlyStopping\n",
        "callback = EarlyStopping(patience=50, monitor='mae', min_delta=0, mode='min', restore_best_weights=True),"
      ]
    },
    {
      "cell_type": "code",
      "execution_count": 45,
      "metadata": {
        "colab": {
          "base_uri": "https://localhost:8080/"
        },
        "id": "vtzDoCCKDaGi",
        "outputId": "caffc3c9-92ec-41a6-95e0-07e1cfd56513"
      },
      "outputs": [
        {
          "output_type": "stream",
          "name": "stdout",
          "text": [
            "Epoch 1/250\n",
            "54/54 [==============================] - 3s 10ms/step - loss: 0.0288 - mae: 0.1615\n",
            "Epoch 2/250\n",
            "54/54 [==============================] - 0s 9ms/step - loss: 0.0162 - mae: 0.1054\n",
            "Epoch 3/250\n",
            "54/54 [==============================] - 0s 9ms/step - loss: 0.0149 - mae: 0.1055\n",
            "Epoch 4/250\n",
            "54/54 [==============================] - 1s 9ms/step - loss: 0.0146 - mae: 0.1067\n",
            "Epoch 5/250\n",
            "54/54 [==============================] - 1s 9ms/step - loss: 0.0144 - mae: 0.1068\n",
            "Epoch 6/250\n",
            "54/54 [==============================] - 0s 9ms/step - loss: 0.0143 - mae: 0.1070\n",
            "Epoch 7/250\n",
            "54/54 [==============================] - 1s 9ms/step - loss: 0.0140 - mae: 0.1046\n",
            "Epoch 8/250\n",
            "54/54 [==============================] - 0s 9ms/step - loss: 0.0139 - mae: 0.1037\n",
            "Epoch 9/250\n",
            "54/54 [==============================] - 1s 9ms/step - loss: 0.0137 - mae: 0.1034\n",
            "Epoch 10/250\n",
            "54/54 [==============================] - 1s 9ms/step - loss: 0.0135 - mae: 0.1016\n",
            "Epoch 11/250\n",
            "54/54 [==============================] - 1s 9ms/step - loss: 0.0134 - mae: 0.1017\n",
            "Epoch 12/250\n",
            "54/54 [==============================] - 0s 9ms/step - loss: 0.0132 - mae: 0.1027\n",
            "Epoch 13/250\n",
            "54/54 [==============================] - 0s 9ms/step - loss: 0.0130 - mae: 0.0988\n",
            "Epoch 14/250\n",
            "54/54 [==============================] - 0s 9ms/step - loss: 0.0128 - mae: 0.0991\n",
            "Epoch 15/250\n",
            "54/54 [==============================] - 1s 9ms/step - loss: 0.0126 - mae: 0.0975\n",
            "Epoch 16/250\n",
            "54/54 [==============================] - 0s 9ms/step - loss: 0.0124 - mae: 0.0986\n",
            "Epoch 17/250\n",
            "54/54 [==============================] - 0s 9ms/step - loss: 0.0123 - mae: 0.0949\n",
            "Epoch 18/250\n",
            "54/54 [==============================] - 0s 9ms/step - loss: 0.0121 - mae: 0.0944\n",
            "Epoch 19/250\n",
            "54/54 [==============================] - 0s 9ms/step - loss: 0.0119 - mae: 0.0946\n",
            "Epoch 20/250\n",
            "54/54 [==============================] - 0s 9ms/step - loss: 0.0117 - mae: 0.0915\n",
            "Epoch 21/250\n",
            "54/54 [==============================] - 1s 9ms/step - loss: 0.0116 - mae: 0.0905\n",
            "Epoch 22/250\n",
            "54/54 [==============================] - 0s 9ms/step - loss: 0.0113 - mae: 0.0900\n",
            "Epoch 23/250\n",
            "54/54 [==============================] - 1s 9ms/step - loss: 0.0112 - mae: 0.0888\n",
            "Epoch 24/250\n",
            "54/54 [==============================] - 0s 9ms/step - loss: 0.0109 - mae: 0.0860\n",
            "Epoch 25/250\n",
            "54/54 [==============================] - 0s 9ms/step - loss: 0.0107 - mae: 0.0873\n",
            "Epoch 26/250\n",
            "54/54 [==============================] - 1s 9ms/step - loss: 0.0106 - mae: 0.0857\n",
            "Epoch 27/250\n",
            "54/54 [==============================] - 1s 9ms/step - loss: 0.0104 - mae: 0.0844\n",
            "Epoch 28/250\n",
            "54/54 [==============================] - 1s 9ms/step - loss: 0.0102 - mae: 0.0836\n",
            "Epoch 29/250\n",
            "54/54 [==============================] - 0s 9ms/step - loss: 0.0100 - mae: 0.0811\n",
            "Epoch 30/250\n",
            "54/54 [==============================] - 0s 9ms/step - loss: 0.0099 - mae: 0.0802\n",
            "Epoch 31/250\n",
            "54/54 [==============================] - 0s 9ms/step - loss: 0.0097 - mae: 0.0803\n",
            "Epoch 32/250\n",
            "54/54 [==============================] - 1s 9ms/step - loss: 0.0096 - mae: 0.0782\n",
            "Epoch 33/250\n",
            "54/54 [==============================] - 1s 9ms/step - loss: 0.0094 - mae: 0.0769\n",
            "Epoch 34/250\n",
            "54/54 [==============================] - 1s 9ms/step - loss: 0.0093 - mae: 0.0756\n",
            "Epoch 35/250\n",
            "54/54 [==============================] - 0s 9ms/step - loss: 0.0092 - mae: 0.0753\n",
            "Epoch 36/250\n",
            "54/54 [==============================] - 1s 9ms/step - loss: 0.0091 - mae: 0.0737\n",
            "Epoch 37/250\n",
            "54/54 [==============================] - 0s 9ms/step - loss: 0.0090 - mae: 0.0751\n",
            "Epoch 38/250\n",
            "54/54 [==============================] - 1s 9ms/step - loss: 0.0089 - mae: 0.0724\n",
            "Epoch 39/250\n",
            "54/54 [==============================] - 1s 9ms/step - loss: 0.0088 - mae: 0.0699\n",
            "Epoch 40/250\n",
            "54/54 [==============================] - 0s 9ms/step - loss: 0.0087 - mae: 0.0725\n",
            "Epoch 41/250\n",
            "54/54 [==============================] - 1s 9ms/step - loss: 0.0086 - mae: 0.0684\n",
            "Epoch 42/250\n",
            "54/54 [==============================] - 0s 9ms/step - loss: 0.0085 - mae: 0.0699\n",
            "Epoch 43/250\n",
            "54/54 [==============================] - 0s 9ms/step - loss: 0.0085 - mae: 0.0685\n",
            "Epoch 44/250\n",
            "54/54 [==============================] - 1s 9ms/step - loss: 0.0084 - mae: 0.0673\n",
            "Epoch 45/250\n",
            "54/54 [==============================] - 0s 9ms/step - loss: 0.0083 - mae: 0.0666\n",
            "Epoch 46/250\n",
            "54/54 [==============================] - 1s 9ms/step - loss: 0.0083 - mae: 0.0677\n",
            "Epoch 47/250\n",
            "54/54 [==============================] - 0s 9ms/step - loss: 0.0083 - mae: 0.0660\n",
            "Epoch 48/250\n",
            "54/54 [==============================] - 1s 9ms/step - loss: 0.0082 - mae: 0.0657\n",
            "Epoch 49/250\n",
            "54/54 [==============================] - 0s 9ms/step - loss: 0.0082 - mae: 0.0646\n",
            "Epoch 50/250\n",
            "54/54 [==============================] - 0s 9ms/step - loss: 0.0081 - mae: 0.0653\n",
            "Epoch 51/250\n",
            "54/54 [==============================] - 0s 9ms/step - loss: 0.0081 - mae: 0.0641\n",
            "Epoch 52/250\n",
            "54/54 [==============================] - 1s 9ms/step - loss: 0.0081 - mae: 0.0653\n",
            "Epoch 53/250\n",
            "54/54 [==============================] - 0s 9ms/step - loss: 0.0081 - mae: 0.0633\n",
            "Epoch 54/250\n",
            "54/54 [==============================] - 0s 9ms/step - loss: 0.0080 - mae: 0.0644\n",
            "Epoch 55/250\n",
            "54/54 [==============================] - 0s 9ms/step - loss: 0.0080 - mae: 0.0638\n",
            "Epoch 56/250\n",
            "54/54 [==============================] - 1s 9ms/step - loss: 0.0080 - mae: 0.0628\n",
            "Epoch 57/250\n",
            "54/54 [==============================] - 0s 9ms/step - loss: 0.0080 - mae: 0.0628\n",
            "Epoch 58/250\n",
            "54/54 [==============================] - 0s 9ms/step - loss: 0.0080 - mae: 0.0637\n",
            "Epoch 59/250\n",
            "54/54 [==============================] - 0s 9ms/step - loss: 0.0080 - mae: 0.0623\n",
            "Epoch 60/250\n",
            "54/54 [==============================] - 0s 9ms/step - loss: 0.0079 - mae: 0.0629\n",
            "Epoch 61/250\n",
            "54/54 [==============================] - 0s 9ms/step - loss: 0.0079 - mae: 0.0624\n",
            "Epoch 62/250\n",
            "54/54 [==============================] - 0s 9ms/step - loss: 0.0079 - mae: 0.0627\n",
            "Epoch 63/250\n",
            "54/54 [==============================] - 0s 9ms/step - loss: 0.0079 - mae: 0.0620\n",
            "Epoch 64/250\n",
            "54/54 [==============================] - 0s 9ms/step - loss: 0.0079 - mae: 0.0621\n",
            "Epoch 65/250\n",
            "54/54 [==============================] - 0s 9ms/step - loss: 0.0079 - mae: 0.0621\n",
            "Epoch 66/250\n",
            "54/54 [==============================] - 0s 9ms/step - loss: 0.0079 - mae: 0.0627\n",
            "Epoch 67/250\n",
            "54/54 [==============================] - 0s 9ms/step - loss: 0.0079 - mae: 0.0606\n",
            "Epoch 68/250\n",
            "54/54 [==============================] - 0s 9ms/step - loss: 0.0079 - mae: 0.0625\n",
            "Epoch 69/250\n",
            "54/54 [==============================] - 0s 9ms/step - loss: 0.0079 - mae: 0.0614\n",
            "Epoch 70/250\n",
            "54/54 [==============================] - 1s 9ms/step - loss: 0.0079 - mae: 0.0626\n",
            "Epoch 71/250\n",
            "54/54 [==============================] - 0s 9ms/step - loss: 0.0078 - mae: 0.0603\n",
            "Epoch 72/250\n",
            "54/54 [==============================] - 0s 9ms/step - loss: 0.0078 - mae: 0.0626\n",
            "Epoch 73/250\n",
            "54/54 [==============================] - 0s 9ms/step - loss: 0.0078 - mae: 0.0612\n",
            "Epoch 74/250\n",
            "54/54 [==============================] - 0s 9ms/step - loss: 0.0078 - mae: 0.0610\n",
            "Epoch 75/250\n",
            "54/54 [==============================] - 1s 9ms/step - loss: 0.0078 - mae: 0.0615\n",
            "Epoch 76/250\n",
            "54/54 [==============================] - 0s 9ms/step - loss: 0.0078 - mae: 0.0609\n",
            "Epoch 77/250\n",
            "54/54 [==============================] - 0s 9ms/step - loss: 0.0078 - mae: 0.0611\n",
            "Epoch 78/250\n",
            "54/54 [==============================] - 1s 9ms/step - loss: 0.0078 - mae: 0.0608\n",
            "Epoch 79/250\n",
            "54/54 [==============================] - 1s 9ms/step - loss: 0.0078 - mae: 0.0600\n",
            "Epoch 80/250\n",
            "54/54 [==============================] - 1s 9ms/step - loss: 0.0078 - mae: 0.0616\n",
            "Epoch 81/250\n",
            "54/54 [==============================] - 0s 9ms/step - loss: 0.0077 - mae: 0.0609\n",
            "Epoch 82/250\n",
            "54/54 [==============================] - 1s 9ms/step - loss: 0.0077 - mae: 0.0602\n",
            "Epoch 83/250\n",
            "54/54 [==============================] - 1s 9ms/step - loss: 0.0077 - mae: 0.0605\n",
            "Epoch 84/250\n",
            "54/54 [==============================] - 0s 9ms/step - loss: 0.0077 - mae: 0.0599\n",
            "Epoch 85/250\n",
            "54/54 [==============================] - 0s 9ms/step - loss: 0.0077 - mae: 0.0618\n",
            "Epoch 86/250\n",
            "54/54 [==============================] - 0s 9ms/step - loss: 0.0077 - mae: 0.0603\n",
            "Epoch 87/250\n",
            "54/54 [==============================] - 1s 9ms/step - loss: 0.0077 - mae: 0.0600\n",
            "Epoch 88/250\n",
            "54/54 [==============================] - 1s 9ms/step - loss: 0.0077 - mae: 0.0607\n",
            "Epoch 89/250\n",
            "54/54 [==============================] - 0s 9ms/step - loss: 0.0077 - mae: 0.0597\n",
            "Epoch 90/250\n",
            "54/54 [==============================] - 0s 9ms/step - loss: 0.0077 - mae: 0.0603\n",
            "Epoch 91/250\n",
            "54/54 [==============================] - 0s 9ms/step - loss: 0.0077 - mae: 0.0598\n",
            "Epoch 92/250\n",
            "54/54 [==============================] - 1s 9ms/step - loss: 0.0077 - mae: 0.0591\n",
            "Epoch 93/250\n",
            "54/54 [==============================] - 1s 9ms/step - loss: 0.0077 - mae: 0.0612\n",
            "Epoch 94/250\n",
            "54/54 [==============================] - 1s 9ms/step - loss: 0.0077 - mae: 0.0600\n",
            "Epoch 95/250\n",
            "54/54 [==============================] - 0s 9ms/step - loss: 0.0077 - mae: 0.0596\n",
            "Epoch 96/250\n",
            "54/54 [==============================] - 1s 9ms/step - loss: 0.0076 - mae: 0.0594\n",
            "Epoch 97/250\n",
            "54/54 [==============================] - 0s 9ms/step - loss: 0.0076 - mae: 0.0605\n",
            "Epoch 98/250\n",
            "54/54 [==============================] - 1s 10ms/step - loss: 0.0076 - mae: 0.0595\n",
            "Epoch 99/250\n",
            "54/54 [==============================] - 1s 9ms/step - loss: 0.0076 - mae: 0.0598\n",
            "Epoch 100/250\n",
            "54/54 [==============================] - 1s 9ms/step - loss: 0.0076 - mae: 0.0593\n",
            "Epoch 101/250\n",
            "54/54 [==============================] - 0s 9ms/step - loss: 0.0076 - mae: 0.0588\n",
            "Epoch 102/250\n",
            "54/54 [==============================] - 1s 9ms/step - loss: 0.0076 - mae: 0.0601\n",
            "Epoch 103/250\n",
            "54/54 [==============================] - 0s 9ms/step - loss: 0.0076 - mae: 0.0594\n",
            "Epoch 104/250\n",
            "54/54 [==============================] - 1s 9ms/step - loss: 0.0076 - mae: 0.0588\n",
            "Epoch 105/250\n",
            "54/54 [==============================] - 1s 9ms/step - loss: 0.0076 - mae: 0.0595\n",
            "Epoch 106/250\n",
            "54/54 [==============================] - 1s 9ms/step - loss: 0.0076 - mae: 0.0595\n",
            "Epoch 107/250\n",
            "54/54 [==============================] - 0s 9ms/step - loss: 0.0076 - mae: 0.0588\n",
            "Epoch 108/250\n",
            "54/54 [==============================] - 1s 9ms/step - loss: 0.0076 - mae: 0.0588\n",
            "Epoch 109/250\n",
            "54/54 [==============================] - 0s 9ms/step - loss: 0.0076 - mae: 0.0596\n",
            "Epoch 110/250\n",
            "54/54 [==============================] - 1s 10ms/step - loss: 0.0076 - mae: 0.0587\n",
            "Epoch 111/250\n",
            "54/54 [==============================] - 1s 9ms/step - loss: 0.0076 - mae: 0.0581\n",
            "Epoch 112/250\n",
            "54/54 [==============================] - 1s 9ms/step - loss: 0.0076 - mae: 0.0602\n",
            "Epoch 113/250\n",
            "54/54 [==============================] - 1s 9ms/step - loss: 0.0075 - mae: 0.0586\n",
            "Epoch 114/250\n",
            "54/54 [==============================] - 0s 9ms/step - loss: 0.0075 - mae: 0.0586\n",
            "Epoch 115/250\n",
            "54/54 [==============================] - 0s 9ms/step - loss: 0.0075 - mae: 0.0591\n",
            "Epoch 116/250\n",
            "54/54 [==============================] - 1s 9ms/step - loss: 0.0075 - mae: 0.0585\n",
            "Epoch 117/250\n",
            "54/54 [==============================] - 1s 9ms/step - loss: 0.0075 - mae: 0.0581\n",
            "Epoch 118/250\n",
            "54/54 [==============================] - 0s 9ms/step - loss: 0.0075 - mae: 0.0588\n",
            "Epoch 119/250\n",
            "54/54 [==============================] - 1s 9ms/step - loss: 0.0075 - mae: 0.0589\n",
            "Epoch 120/250\n",
            "54/54 [==============================] - 1s 9ms/step - loss: 0.0075 - mae: 0.0576\n",
            "Epoch 121/250\n",
            "54/54 [==============================] - 1s 10ms/step - loss: 0.0075 - mae: 0.0590\n",
            "Epoch 122/250\n",
            "54/54 [==============================] - 1s 9ms/step - loss: 0.0075 - mae: 0.0576\n",
            "Epoch 123/250\n",
            "54/54 [==============================] - 0s 9ms/step - loss: 0.0075 - mae: 0.0580\n",
            "Epoch 124/250\n",
            "54/54 [==============================] - 0s 9ms/step - loss: 0.0075 - mae: 0.0597\n",
            "Epoch 125/250\n",
            "54/54 [==============================] - 1s 9ms/step - loss: 0.0075 - mae: 0.0579\n",
            "Epoch 126/250\n",
            "54/54 [==============================] - 0s 9ms/step - loss: 0.0075 - mae: 0.0583\n",
            "Epoch 127/250\n",
            "54/54 [==============================] - 1s 10ms/step - loss: 0.0075 - mae: 0.0569\n",
            "Epoch 128/250\n",
            "54/54 [==============================] - 1s 9ms/step - loss: 0.0075 - mae: 0.0581\n",
            "Epoch 129/250\n",
            "54/54 [==============================] - 1s 9ms/step - loss: 0.0074 - mae: 0.0585\n",
            "Epoch 130/250\n",
            "54/54 [==============================] - 1s 9ms/step - loss: 0.0075 - mae: 0.0570\n",
            "Epoch 131/250\n",
            "54/54 [==============================] - 1s 9ms/step - loss: 0.0074 - mae: 0.0585\n",
            "Epoch 132/250\n",
            "54/54 [==============================] - 1s 9ms/step - loss: 0.0074 - mae: 0.0573\n",
            "Epoch 133/250\n",
            "54/54 [==============================] - 1s 9ms/step - loss: 0.0074 - mae: 0.0577\n",
            "Epoch 134/250\n",
            "54/54 [==============================] - 0s 9ms/step - loss: 0.0074 - mae: 0.0574\n",
            "Epoch 135/250\n",
            "54/54 [==============================] - 1s 9ms/step - loss: 0.0074 - mae: 0.0569\n",
            "Epoch 136/250\n",
            "54/54 [==============================] - 1s 9ms/step - loss: 0.0074 - mae: 0.0588\n",
            "Epoch 137/250\n",
            "54/54 [==============================] - 1s 9ms/step - loss: 0.0074 - mae: 0.0569\n",
            "Epoch 138/250\n",
            "54/54 [==============================] - 1s 9ms/step - loss: 0.0074 - mae: 0.0574\n",
            "Epoch 139/250\n",
            "54/54 [==============================] - 1s 9ms/step - loss: 0.0074 - mae: 0.0569\n",
            "Epoch 140/250\n",
            "54/54 [==============================] - 1s 9ms/step - loss: 0.0074 - mae: 0.0582\n",
            "Epoch 141/250\n",
            "54/54 [==============================] - 1s 10ms/step - loss: 0.0074 - mae: 0.0567\n",
            "Epoch 142/250\n",
            "54/54 [==============================] - 1s 10ms/step - loss: 0.0074 - mae: 0.0574\n",
            "Epoch 143/250\n",
            "54/54 [==============================] - 0s 9ms/step - loss: 0.0074 - mae: 0.0569\n",
            "Epoch 144/250\n",
            "54/54 [==============================] - 1s 9ms/step - loss: 0.0074 - mae: 0.0573\n",
            "Epoch 145/250\n",
            "54/54 [==============================] - 0s 9ms/step - loss: 0.0074 - mae: 0.0563\n",
            "Epoch 146/250\n",
            "54/54 [==============================] - 1s 9ms/step - loss: 0.0074 - mae: 0.0565\n",
            "Epoch 147/250\n",
            "54/54 [==============================] - 1s 9ms/step - loss: 0.0073 - mae: 0.0578\n",
            "Epoch 148/250\n",
            "54/54 [==============================] - 1s 10ms/step - loss: 0.0073 - mae: 0.0557\n",
            "Epoch 149/250\n",
            "54/54 [==============================] - 1s 9ms/step - loss: 0.0073 - mae: 0.0563\n",
            "Epoch 150/250\n",
            "54/54 [==============================] - 1s 9ms/step - loss: 0.0073 - mae: 0.0571\n",
            "Epoch 151/250\n",
            "54/54 [==============================] - 1s 9ms/step - loss: 0.0073 - mae: 0.0568\n",
            "Epoch 152/250\n",
            "54/54 [==============================] - 1s 9ms/step - loss: 0.0073 - mae: 0.0559\n",
            "Epoch 153/250\n",
            "54/54 [==============================] - 1s 9ms/step - loss: 0.0073 - mae: 0.0568\n",
            "Epoch 154/250\n",
            "54/54 [==============================] - 1s 10ms/step - loss: 0.0073 - mae: 0.0568\n",
            "Epoch 155/250\n",
            "54/54 [==============================] - 0s 9ms/step - loss: 0.0073 - mae: 0.0562\n",
            "Epoch 156/250\n",
            "54/54 [==============================] - 1s 9ms/step - loss: 0.0073 - mae: 0.0557\n",
            "Epoch 157/250\n",
            "54/54 [==============================] - 1s 9ms/step - loss: 0.0073 - mae: 0.0563\n",
            "Epoch 158/250\n",
            "54/54 [==============================] - 1s 9ms/step - loss: 0.0073 - mae: 0.0569\n",
            "Epoch 159/250\n",
            "54/54 [==============================] - 1s 9ms/step - loss: 0.0073 - mae: 0.0561\n",
            "Epoch 160/250\n",
            "54/54 [==============================] - 1s 9ms/step - loss: 0.0073 - mae: 0.0557\n",
            "Epoch 161/250\n",
            "54/54 [==============================] - 0s 9ms/step - loss: 0.0073 - mae: 0.0561\n",
            "Epoch 162/250\n",
            "54/54 [==============================] - 1s 10ms/step - loss: 0.0073 - mae: 0.0564\n",
            "Epoch 163/250\n",
            "54/54 [==============================] - 1s 10ms/step - loss: 0.0073 - mae: 0.0549\n",
            "Epoch 164/250\n",
            "54/54 [==============================] - 1s 9ms/step - loss: 0.0073 - mae: 0.0563\n",
            "Epoch 165/250\n",
            "54/54 [==============================] - 0s 9ms/step - loss: 0.0073 - mae: 0.0558\n",
            "Epoch 166/250\n",
            "54/54 [==============================] - 0s 9ms/step - loss: 0.0073 - mae: 0.0557\n",
            "Epoch 167/250\n",
            "54/54 [==============================] - 0s 9ms/step - loss: 0.0073 - mae: 0.0561\n",
            "Epoch 168/250\n",
            "54/54 [==============================] - 1s 9ms/step - loss: 0.0072 - mae: 0.0555\n",
            "Epoch 169/250\n",
            "54/54 [==============================] - 1s 9ms/step - loss: 0.0073 - mae: 0.0547\n",
            "Epoch 170/250\n",
            "54/54 [==============================] - 1s 9ms/step - loss: 0.0072 - mae: 0.0557\n",
            "Epoch 171/250\n",
            "54/54 [==============================] - 1s 9ms/step - loss: 0.0072 - mae: 0.0565\n",
            "Epoch 172/250\n",
            "54/54 [==============================] - 0s 9ms/step - loss: 0.0072 - mae: 0.0553\n",
            "Epoch 173/250\n",
            "54/54 [==============================] - 0s 9ms/step - loss: 0.0072 - mae: 0.0555\n",
            "Epoch 174/250\n",
            "54/54 [==============================] - 1s 9ms/step - loss: 0.0072 - mae: 0.0549\n",
            "Epoch 175/250\n",
            "54/54 [==============================] - 1s 9ms/step - loss: 0.0072 - mae: 0.0556\n",
            "Epoch 176/250\n",
            "54/54 [==============================] - 1s 9ms/step - loss: 0.0072 - mae: 0.0559\n",
            "Epoch 177/250\n",
            "54/54 [==============================] - 1s 9ms/step - loss: 0.0072 - mae: 0.0542\n",
            "Epoch 178/250\n",
            "54/54 [==============================] - 0s 9ms/step - loss: 0.0072 - mae: 0.0551\n",
            "Epoch 179/250\n",
            "54/54 [==============================] - 1s 9ms/step - loss: 0.0072 - mae: 0.0557\n",
            "Epoch 180/250\n",
            "54/54 [==============================] - 1s 9ms/step - loss: 0.0072 - mae: 0.0548\n",
            "Epoch 181/250\n",
            "54/54 [==============================] - 1s 9ms/step - loss: 0.0072 - mae: 0.0554\n",
            "Epoch 182/250\n",
            "54/54 [==============================] - 1s 9ms/step - loss: 0.0072 - mae: 0.0550\n",
            "Epoch 183/250\n",
            "54/54 [==============================] - 1s 9ms/step - loss: 0.0072 - mae: 0.0542\n",
            "Epoch 184/250\n",
            "54/54 [==============================] - 1s 9ms/step - loss: 0.0072 - mae: 0.0560\n",
            "Epoch 185/250\n",
            "54/54 [==============================] - 1s 9ms/step - loss: 0.0072 - mae: 0.0546\n",
            "Epoch 186/250\n",
            "54/54 [==============================] - 0s 9ms/step - loss: 0.0072 - mae: 0.0541\n",
            "Epoch 187/250\n",
            "54/54 [==============================] - 1s 9ms/step - loss: 0.0072 - mae: 0.0555\n",
            "Epoch 188/250\n",
            "54/54 [==============================] - 0s 9ms/step - loss: 0.0072 - mae: 0.0544\n",
            "Epoch 189/250\n",
            "54/54 [==============================] - 1s 9ms/step - loss: 0.0072 - mae: 0.0548\n",
            "Epoch 190/250\n",
            "54/54 [==============================] - 1s 9ms/step - loss: 0.0072 - mae: 0.0551\n",
            "Epoch 191/250\n",
            "54/54 [==============================] - 1s 9ms/step - loss: 0.0072 - mae: 0.0541\n",
            "Epoch 192/250\n",
            "54/54 [==============================] - 1s 9ms/step - loss: 0.0072 - mae: 0.0554\n",
            "Epoch 193/250\n",
            "54/54 [==============================] - 1s 9ms/step - loss: 0.0071 - mae: 0.0542\n",
            "Epoch 194/250\n",
            "54/54 [==============================] - 1s 10ms/step - loss: 0.0071 - mae: 0.0545\n",
            "Epoch 195/250\n",
            "54/54 [==============================] - 1s 9ms/step - loss: 0.0071 - mae: 0.0544\n",
            "Epoch 196/250\n",
            "54/54 [==============================] - 1s 9ms/step - loss: 0.0071 - mae: 0.0548\n",
            "Epoch 197/250\n",
            "54/54 [==============================] - 1s 9ms/step - loss: 0.0071 - mae: 0.0539\n",
            "Epoch 198/250\n",
            "54/54 [==============================] - 1s 9ms/step - loss: 0.0071 - mae: 0.0537\n",
            "Epoch 199/250\n",
            "54/54 [==============================] - 1s 9ms/step - loss: 0.0071 - mae: 0.0544\n",
            "Epoch 200/250\n",
            "54/54 [==============================] - 0s 9ms/step - loss: 0.0071 - mae: 0.0541\n",
            "Epoch 201/250\n",
            "54/54 [==============================] - 0s 9ms/step - loss: 0.0071 - mae: 0.0546\n",
            "Epoch 202/250\n",
            "54/54 [==============================] - 1s 9ms/step - loss: 0.0071 - mae: 0.0540\n",
            "Epoch 203/250\n",
            "54/54 [==============================] - 1s 9ms/step - loss: 0.0071 - mae: 0.0538\n",
            "Epoch 204/250\n",
            "54/54 [==============================] - 1s 9ms/step - loss: 0.0071 - mae: 0.0547\n",
            "Epoch 205/250\n",
            "54/54 [==============================] - 0s 9ms/step - loss: 0.0071 - mae: 0.0539\n",
            "Epoch 206/250\n",
            "54/54 [==============================] - 1s 9ms/step - loss: 0.0071 - mae: 0.0537\n",
            "Epoch 207/250\n",
            "54/54 [==============================] - 0s 9ms/step - loss: 0.0071 - mae: 0.0546\n",
            "Epoch 208/250\n",
            "54/54 [==============================] - 1s 9ms/step - loss: 0.0071 - mae: 0.0539\n",
            "Epoch 209/250\n",
            "54/54 [==============================] - 0s 9ms/step - loss: 0.0071 - mae: 0.0532\n",
            "Epoch 210/250\n",
            "54/54 [==============================] - 1s 9ms/step - loss: 0.0071 - mae: 0.0548\n",
            "Epoch 211/250\n",
            "54/54 [==============================] - 1s 9ms/step - loss: 0.0071 - mae: 0.0542\n",
            "Epoch 212/250\n",
            "54/54 [==============================] - 1s 9ms/step - loss: 0.0071 - mae: 0.0535\n",
            "Epoch 213/250\n",
            "54/54 [==============================] - 1s 9ms/step - loss: 0.0071 - mae: 0.0536\n",
            "Epoch 214/250\n",
            "54/54 [==============================] - 1s 10ms/step - loss: 0.0071 - mae: 0.0538\n",
            "Epoch 215/250\n",
            "54/54 [==============================] - 1s 9ms/step - loss: 0.0071 - mae: 0.0537\n",
            "Epoch 216/250\n",
            "54/54 [==============================] - 1s 9ms/step - loss: 0.0071 - mae: 0.0533\n",
            "Epoch 217/250\n",
            "54/54 [==============================] - 0s 9ms/step - loss: 0.0071 - mae: 0.0540\n",
            "Epoch 218/250\n",
            "54/54 [==============================] - 1s 9ms/step - loss: 0.0070 - mae: 0.0531\n",
            "Epoch 219/250\n",
            "54/54 [==============================] - 1s 9ms/step - loss: 0.0070 - mae: 0.0537\n",
            "Epoch 220/250\n",
            "54/54 [==============================] - 1s 10ms/step - loss: 0.0070 - mae: 0.0529\n",
            "Epoch 221/250\n",
            "54/54 [==============================] - 1s 9ms/step - loss: 0.0070 - mae: 0.0536\n",
            "Epoch 222/250\n",
            "54/54 [==============================] - 1s 10ms/step - loss: 0.0070 - mae: 0.0542\n",
            "Epoch 223/250\n",
            "54/54 [==============================] - 1s 9ms/step - loss: 0.0070 - mae: 0.0531\n",
            "Epoch 224/250\n",
            "54/54 [==============================] - 1s 9ms/step - loss: 0.0070 - mae: 0.0533\n",
            "Epoch 225/250\n",
            "54/54 [==============================] - 1s 10ms/step - loss: 0.0070 - mae: 0.0529\n",
            "Epoch 226/250\n",
            "54/54 [==============================] - 1s 9ms/step - loss: 0.0070 - mae: 0.0532\n",
            "Epoch 227/250\n",
            "54/54 [==============================] - 1s 9ms/step - loss: 0.0070 - mae: 0.0532\n",
            "Epoch 228/250\n",
            "54/54 [==============================] - 1s 9ms/step - loss: 0.0070 - mae: 0.0529\n",
            "Epoch 229/250\n",
            "54/54 [==============================] - 1s 9ms/step - loss: 0.0070 - mae: 0.0533\n",
            "Epoch 230/250\n",
            "54/54 [==============================] - 1s 9ms/step - loss: 0.0070 - mae: 0.0532\n",
            "Epoch 231/250\n",
            "54/54 [==============================] - 1s 9ms/step - loss: 0.0070 - mae: 0.0534\n",
            "Epoch 232/250\n",
            "54/54 [==============================] - 1s 9ms/step - loss: 0.0070 - mae: 0.0531\n",
            "Epoch 233/250\n",
            "54/54 [==============================] - 1s 9ms/step - loss: 0.0070 - mae: 0.0528\n",
            "Epoch 234/250\n",
            "54/54 [==============================] - 0s 9ms/step - loss: 0.0070 - mae: 0.0527\n",
            "Epoch 235/250\n",
            "54/54 [==============================] - 1s 10ms/step - loss: 0.0070 - mae: 0.0531\n",
            "Epoch 236/250\n",
            "54/54 [==============================] - 1s 9ms/step - loss: 0.0070 - mae: 0.0523\n",
            "Epoch 237/250\n",
            "54/54 [==============================] - 1s 9ms/step - loss: 0.0070 - mae: 0.0532\n",
            "Epoch 238/250\n",
            "54/54 [==============================] - 1s 9ms/step - loss: 0.0070 - mae: 0.0532\n",
            "Epoch 239/250\n",
            "54/54 [==============================] - 1s 9ms/step - loss: 0.0070 - mae: 0.0524\n",
            "Epoch 240/250\n",
            "54/54 [==============================] - 1s 9ms/step - loss: 0.0070 - mae: 0.0531\n",
            "Epoch 241/250\n",
            "54/54 [==============================] - 1s 10ms/step - loss: 0.0070 - mae: 0.0528\n",
            "Epoch 242/250\n",
            "54/54 [==============================] - 1s 9ms/step - loss: 0.0070 - mae: 0.0522\n",
            "Epoch 243/250\n",
            "54/54 [==============================] - 1s 9ms/step - loss: 0.0070 - mae: 0.0528\n",
            "Epoch 244/250\n",
            "54/54 [==============================] - 1s 9ms/step - loss: 0.0070 - mae: 0.0520\n",
            "Epoch 245/250\n",
            "54/54 [==============================] - 1s 9ms/step - loss: 0.0070 - mae: 0.0529\n",
            "Epoch 246/250\n",
            "54/54 [==============================] - 1s 9ms/step - loss: 0.0069 - mae: 0.0525\n",
            "Epoch 247/250\n",
            "54/54 [==============================] - 1s 9ms/step - loss: 0.0069 - mae: 0.0523\n",
            "Epoch 248/250\n",
            "54/54 [==============================] - 1s 9ms/step - loss: 0.0069 - mae: 0.0529\n",
            "Epoch 249/250\n",
            "54/54 [==============================] - 1s 9ms/step - loss: 0.0069 - mae: 0.0518\n",
            "Epoch 250/250\n",
            "54/54 [==============================] - 1s 9ms/step - loss: 0.0069 - mae: 0.0519\n"
          ]
        }
      ],
      "source": [
        "history = model.fit(train_generator,epochs=250, callbacks=[callback])"
      ]
    },
    {
      "cell_type": "code",
      "execution_count": 46,
      "metadata": {
        "colab": {
          "base_uri": "https://localhost:8080/",
          "height": 791
        },
        "id": "O4SSjDSTDbcA",
        "outputId": "d775eb2b-8941-4758-98c7-2f228871de24"
      },
      "outputs": [
        {
          "output_type": "display_data",
          "data": {
            "text/plain": [
              "<Figure size 720x432 with 1 Axes>"
            ],
            "image/png": "[encoded data removed]"
          },
          "metadata": {
            "needs_background": "light"
          }
        },
        {
          "output_type": "display_data",
          "data": {
            "text/plain": [
              "<Figure size 720x432 with 1 Axes>"
            ],
            "image/png": "[encoded data removed]"
          },
          "metadata": {
            "needs_background": "light"
          }
        }
      ],
      "source": [
        "mae=history.history['mae']\n",
        "loss=history.history['loss']\n",
        "\n",
        "# Get number of epochs\n",
        "epochs=range(len(loss)) \n",
        "\n",
        "# Plot mae and loss\n",
        "plot_series(\n",
        "    x=epochs, \n",
        "    y=(mae, loss), \n",
        "    title='MAE and Loss', \n",
        "    xlabel='MAE',\n",
        "    ylabel='Loss',\n",
        "    legend=['MAE', 'Loss']\n",
        "    )\n",
        "\n",
        "# Only plot the last 80% of the epochs\n",
        "zoom_split = int(epochs[-1] * 0.2)\n",
        "epochs_zoom = epochs[zoom_split:]\n",
        "mae_zoom = mae[zoom_split:]\n",
        "loss_zoom = loss[zoom_split:]\n",
        "\n",
        "# Plot zoomed mae and loss\n",
        "plot_series(\n",
        "    x=epochs_zoom, \n",
        "    y=(mae_zoom, loss_zoom), \n",
        "    title='MAE and Loss', \n",
        "    xlabel='MAE',\n",
        "    ylabel='Loss',\n",
        "    legend=['MAE', 'Loss']\n",
        "    )"
      ]
    },
    {
      "cell_type": "code",
      "execution_count": 47,
      "metadata": {
        "id": "mNH5Fj_qDeXN"
      },
      "outputs": [],
      "source": [
        "df_test = pd.DataFrame(columns=['speed', 'field'])\n",
        "df_test['speed'] = sp_valid\n",
        "df_test['field'] = fld_valid"
      ]
    },
    {
      "cell_type": "code",
      "execution_count": 48,
      "metadata": {
        "id": "SM-LYp-7Dg1g"
      },
      "outputs": [],
      "source": [
        "data_scaled_test = scaler.fit_transform(df_test)"
      ]
    },
    {
      "cell_type": "code",
      "execution_count": 50,
      "metadata": {
        "id": "GhLuNWLoDiYz"
      },
      "outputs": [],
      "source": [
        "features_test = data_scaled_test\n",
        "target_test = data_scaled_test[:,0]\n",
        "win_length = 24\n",
        "batch_size = 120\n",
        "num_features = 1\n",
        "test_generator = TimeseriesGenerator(features_test, target_test, length=win_length, sampling_rate=1, batch_size=batch_size)"
      ]
    },
    {
      "cell_type": "code",
      "execution_count": 51,
      "metadata": {
        "id": "wmNhrEYgDmLX"
      },
      "outputs": [],
      "source": [
        "predictions = model.predict(test_generator)"
      ]
    },
    {
      "cell_type": "code",
      "execution_count": 52,
      "metadata": {
        "id": "MU_aWg0vDpaG"
      },
      "outputs": [],
      "source": [
        "sc = MinMaxScaler()\n",
        "sc = sc.fit(np.array(df_train['speed']).reshape(-1,1))\n",
        "predictions = sc.inverse_transform(predictions)"
      ]
    },
    {
      "cell_type": "code",
      "execution_count": 53,
      "metadata": {
        "colab": {
          "base_uri": "https://localhost:8080/",
          "height": 374
        },
        "id": "RIwAexyRDsTE",
        "outputId": "9dcdc5a3-7560-42a3-e2b3-8288ab36c225"
      },
      "outputs": [
        {
          "output_type": "display_data",
          "data": {
            "text/plain": [
              "<Figure size 720x432 with 1 Axes>"
            ],
            "image/png": "[encoded data removed]"
          },
          "metadata": {
            "needs_background": "light"
          }
        }
      ],
      "source": [
        "time_steps = [i for i in range(len(predictions))]\n",
        "plot_series(time_steps, (sp_valid[:len(predictions)], predictions))"
      ]
    },
    {
      "cell_type": "code",
      "execution_count": 54,
      "metadata": {
        "colab": {
          "base_uri": "https://localhost:8080/"
        },
        "id": "_dDrUpCODxD3",
        "outputId": "141279a8-089e-4efb-b30e-b854919c204e"
      },
      "outputs": [
        {
          "output_type": "stream",
          "name": "stdout",
          "text": [
            "102.51801\n"
          ]
        }
      ],
      "source": [
        "print(tf.keras.metrics.mean_absolute_error(sp_valid[:len(predictions)], predictions[:][:,0]).numpy())"
      ]
    },
    {
      "cell_type": "code",
      "execution_count": 37,
      "metadata": {
        "id": "Vv3DePXiFnEo"
      },
      "outputs": [],
      "source": [
        "model.save('speed_using_field.h5')"
      ]
    },
    {
      "cell_type": "code",
      "execution_count": null,
      "metadata": {
        "id": "obcOSV4JFyIY"
      },
      "outputs": [],
      "source": []
    }
  ],
  "metadata": {
    "accelerator": "GPU",
    "colab": {
      "provenance": []
    },
    "kernelspec": {
      "display_name": "Python 3",
      "name": "python3"
    },
    "language_info": {
      "name": "python"
    }
  },
  "nbformat": 4,
  "nbformat_minor": 0
}